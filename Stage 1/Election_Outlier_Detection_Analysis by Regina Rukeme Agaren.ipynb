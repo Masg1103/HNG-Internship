{
 "cells": [
  {
   "cell_type": "markdown",
   "id": "6601e08c",
   "metadata": {},
   "source": [
    "### IMPORTING LIBRARIES"
   ]
  },
  {
   "cell_type": "code",
   "execution_count": 1,
   "id": "38c38b11",
   "metadata": {},
   "outputs": [],
   "source": [
    "# !pip install geopy\n",
    "# !pip install folium\n",
    "import pandas as pd\n",
    "import numpy as np\n",
    "import requests\n",
    "import matplotlib.pyplot as plt\n",
    "from scipy.stats import zscore"
   ]
  },
  {
   "cell_type": "markdown",
   "id": "1448919e",
   "metadata": {},
   "source": [
    "### Load the main dataset and the dataset with lat/lon information"
   ]
  },
  {
   "cell_type": "code",
   "execution_count": 2,
   "id": "41024460",
   "metadata": {},
   "outputs": [
    {
     "name": "stdout",
     "output_type": "stream",
     "text": [
      "  State_x            LGA   Ward       PU-Code  \\\n",
      "0   DELTA  ANIOCHA NORTH  OBIOR  10-01-01-001   \n",
      "1   DELTA  ANIOCHA NORTH  OBIOR  10-01-01-001   \n",
      "2   DELTA  ANIOCHA NORTH  OBIOR  10-01-01-001   \n",
      "3   DELTA  ANIOCHA NORTH  OBIOR  10-01-01-001   \n",
      "4   DELTA  ANIOCHA NORTH  OBIOR  10-01-01-001   \n",
      "\n",
      "                                        PU-Name_x  Accredited_Voters  \\\n",
      "0  KANIDILIMA P/S - ISHIEKPE QUARTERS, ONICHA-UKU                213   \n",
      "1  KANIDILIMA P/S - ISHIEKPE QUARTERS, ONICHA-UKU                213   \n",
      "2  KANIDILIMA P/S - ISHIEKPE QUARTERS, ONICHA-UKU                213   \n",
      "3  KANIDILIMA P/S - ISHIEKPE QUARTERS, ONICHA-UKU                213   \n",
      "4  KANIDILIMA P/S - ISHIEKPE QUARTERS, ONICHA-UKU                213   \n",
      "\n",
      "   Registered_Voters  Results_Found  Transcription_Count  \\\n",
      "0               1990           True                   -1   \n",
      "1               1990           True                   -1   \n",
      "2               1990           True                   -1   \n",
      "3               1990           True                   -1   \n",
      "4               1990           True                   -1   \n",
      "\n",
      "   Result_Sheet_Stamped  ...  APC  LP  PDP NNPP  \\\n",
      "0                 False  ...    0   0    0    0   \n",
      "1                 False  ...    0   0    0    0   \n",
      "2                 False  ...    0   0    0    0   \n",
      "3                 False  ...    0   0    0    0   \n",
      "4                 False  ...    0   0    0    0   \n",
      "\n",
      "                                        Results_File  \\\n",
      "0  https://docs.inecelectionresults.net/elections...   \n",
      "1  https://docs.inecelectionresults.net/elections...   \n",
      "2  https://docs.inecelectionresults.net/elections...   \n",
      "3  https://docs.inecelectionresults.net/elections...   \n",
      "4  https://docs.inecelectionresults.net/elections...   \n",
      "\n",
      "                            PU-Name_y  Local Government Name  State_y  \\\n",
      "0  KANIDILIMA P/S - ISHIEKPE QUARTERS          ANIOCHA NORTH    DELTA   \n",
      "1          KANIDILIMA P/S - OGBE AKWU          ANIOCHA NORTH    DELTA   \n",
      "2          KANIDILIMA P/S - OGBE ISSE          ANIOCHA NORTH    DELTA   \n",
      "3    UKPALI P/S - OGBE UTU QUARTERS I          ANIOCHA NORTH    DELTA   \n",
      "4   UKPALI P/S - OGBE UTU QUARTERS II          ANIOCHA NORTH    DELTA   \n",
      "\n",
      "   Latitude Longitude  \n",
      "0  6.326628  6.468955  \n",
      "1  6.239476  6.442044  \n",
      "2  6.239476  6.442044  \n",
      "3       NaN       NaN  \n",
      "4  6.239476  6.442044  \n",
      "\n",
      "[5 rows x 24 columns]\n"
     ]
    }
   ],
   "source": [
    "main_df = pd.read_csv('DELTA_crosschecked.csv')\n",
    "lat_lon_df = pd.read_csv('polling-units.csv')\n",
    "\n",
    "# Merge the datasets on the common column (Ward)\n",
    "df = pd.merge(main_df, lat_lon_df, on='Ward')\n",
    "\n",
    "# check the first 5 rows of the data \n",
    "print(df.head())"
   ]
  },
  {
   "cell_type": "code",
   "execution_count": 3,
   "id": "1b191343",
   "metadata": {},
   "outputs": [
    {
     "name": "stdout",
     "output_type": "stream",
     "text": [
      "Merged DataFrame shape: (110310, 24)\n",
      "  State_x            LGA   Ward       PU-Code  \\\n",
      "0   DELTA  ANIOCHA NORTH  OBIOR  10-01-01-001   \n",
      "1   DELTA  ANIOCHA NORTH  OBIOR  10-01-01-001   \n",
      "2   DELTA  ANIOCHA NORTH  OBIOR  10-01-01-001   \n",
      "3   DELTA  ANIOCHA NORTH  OBIOR  10-01-01-001   \n",
      "4   DELTA  ANIOCHA NORTH  OBIOR  10-01-01-001   \n",
      "\n",
      "                                        PU-Name_x  Accredited_Voters  \\\n",
      "0  KANIDILIMA P/S - ISHIEKPE QUARTERS, ONICHA-UKU                213   \n",
      "1  KANIDILIMA P/S - ISHIEKPE QUARTERS, ONICHA-UKU                213   \n",
      "2  KANIDILIMA P/S - ISHIEKPE QUARTERS, ONICHA-UKU                213   \n",
      "3  KANIDILIMA P/S - ISHIEKPE QUARTERS, ONICHA-UKU                213   \n",
      "4  KANIDILIMA P/S - ISHIEKPE QUARTERS, ONICHA-UKU                213   \n",
      "\n",
      "   Registered_Voters  Results_Found  Transcription_Count  \\\n",
      "0               1990           True                   -1   \n",
      "1               1990           True                   -1   \n",
      "2               1990           True                   -1   \n",
      "3               1990           True                   -1   \n",
      "4               1990           True                   -1   \n",
      "\n",
      "   Result_Sheet_Stamped  ...  APC  LP  PDP NNPP  \\\n",
      "0                 False  ...    0   0    0    0   \n",
      "1                 False  ...    0   0    0    0   \n",
      "2                 False  ...    0   0    0    0   \n",
      "3                 False  ...    0   0    0    0   \n",
      "4                 False  ...    0   0    0    0   \n",
      "\n",
      "                                        Results_File  \\\n",
      "0  https://docs.inecelectionresults.net/elections...   \n",
      "1  https://docs.inecelectionresults.net/elections...   \n",
      "2  https://docs.inecelectionresults.net/elections...   \n",
      "3  https://docs.inecelectionresults.net/elections...   \n",
      "4  https://docs.inecelectionresults.net/elections...   \n",
      "\n",
      "                            PU-Name_y  Local Government Name  State_y  \\\n",
      "0  KANIDILIMA P/S - ISHIEKPE QUARTERS          ANIOCHA NORTH    DELTA   \n",
      "1          KANIDILIMA P/S - OGBE AKWU          ANIOCHA NORTH    DELTA   \n",
      "2          KANIDILIMA P/S - OGBE ISSE          ANIOCHA NORTH    DELTA   \n",
      "3    UKPALI P/S - OGBE UTU QUARTERS I          ANIOCHA NORTH    DELTA   \n",
      "4   UKPALI P/S - OGBE UTU QUARTERS II          ANIOCHA NORTH    DELTA   \n",
      "\n",
      "   Latitude Longitude  \n",
      "0  6.326628  6.468955  \n",
      "1  6.239476  6.442044  \n",
      "2  6.239476  6.442044  \n",
      "3       NaN       NaN  \n",
      "4  6.239476  6.442044  \n",
      "\n",
      "[5 rows x 24 columns]\n"
     ]
    }
   ],
   "source": [
    "# Check the merging result\n",
    "print(\"Merged DataFrame shape:\", df.shape)\n",
    "print(df.head())"
   ]
  },
  {
   "cell_type": "code",
   "execution_count": 4,
   "id": "ddacd67f",
   "metadata": {},
   "outputs": [
    {
     "name": "stdout",
     "output_type": "stream",
     "text": [
      "Latitude     23497\n",
      "Longitude    23497\n",
      "dtype: int64\n"
     ]
    }
   ],
   "source": [
    "# Check for missing values in 'latitude' and 'longitude' columns\n",
    "print(df[['Latitude', 'Longitude']].isnull().sum())"
   ]
  },
  {
   "cell_type": "code",
   "execution_count": 5,
   "id": "bfce71cb",
   "metadata": {},
   "outputs": [
    {
     "name": "stdout",
     "output_type": "stream",
     "text": [
      "Missing values in 'latitude' and 'longitude' columns after merging:\n",
      " Latitude     23497\n",
      "Longitude    23497\n",
      "dtype: int64\n"
     ]
    }
   ],
   "source": [
    "# Check for missing values in 'latitude' and 'longitude' columns after merging\n",
    "if 'Latitude' in df.columns and 'Longitude' in df.columns:\n",
    "    print(\"Missing values in 'latitude' and 'longitude' columns after merging:\\n\", df[['Latitude', 'Longitude']].isnull().sum())\n",
    "else:\n",
    "    print(\"'latitude' and/or 'longitude' columns are not in the merged DataFrame.\")"
   ]
  },
  {
   "cell_type": "markdown",
   "id": "2e09681d",
   "metadata": {},
   "source": [
    "### Drop NaN Values"
   ]
  },
  {
   "cell_type": "code",
   "execution_count": 6,
   "id": "dba4b8ab",
   "metadata": {},
   "outputs": [],
   "source": [
    "# Drop rows with missing values in 'latitude' and 'longitude' columns\n",
    "df = df.dropna(subset=['Latitude', 'Longitude'])\n",
    "\n",
    "# Ensure DataFrame is not empty after dropping missing values\n",
    "if df.empty:\n",
    "    raise ValueError(\"DataFrame is empty after handling missing values. Check the merging process and data integrity.\")"
   ]
  },
  {
   "cell_type": "markdown",
   "id": "60763cf6",
   "metadata": {},
   "source": [
    "# Convert latitudes and longitudes to radians"
   ]
  },
  {
   "cell_type": "code",
   "execution_count": 7,
   "id": "7c52c2b4",
   "metadata": {},
   "outputs": [],
   "source": [
    "df['latitude_radians'] = np.radians(df['Latitude'])\n",
    "df['longitude_radians'] = np.radians(df['Longitude'])"
   ]
  },
  {
   "cell_type": "markdown",
   "id": "c9307066",
   "metadata": {},
   "source": [
    "### Calculate pairwise distances and identify neighbors"
   ]
  },
  {
   "cell_type": "code",
   "execution_count": 14,
   "id": "325414d6",
   "metadata": {},
   "outputs": [
    {
     "name": "stderr",
     "output_type": "stream",
     "text": [
      "IOPub data rate exceeded.\n",
      "The notebook server will temporarily stop sending output\n",
      "to the client in order to avoid crashing it.\n",
      "To change this limit, set the config variable\n",
      "`--NotebookApp.iopub_data_rate_limit`.\n",
      "\n",
      "Current values:\n",
      "NotebookApp.iopub_data_rate_limit=1000000.0 (bytes/sec)\n",
      "NotebookApp.rate_limit_window=3.0 (secs)\n",
      "\n"
     ]
    }
   ],
   "source": [
    "from sklearn.neighbors import NearestNeighbors\n",
    "\n",
    "\n",
    "# Extract coordinates\n",
    "coords = df[['latitude_radians', 'longitude_radians']].values\n",
    "\n",
    "# Initialize NearestNeighbors model\n",
    "radius = 1 / 6371  # Convert km to radians (approximation)\n",
    "nn = NearestNeighbors(radius=radius, metric='haversine')\n",
    "\n",
    "# Fit the model\n",
    "nn.fit(coords)\n",
    "\n",
    "# Find neighbors within the radius\n",
    "distances, indices = nn.radius_neighbors(coords)\n",
    "\n",
    "# Create a dictionary of neighbors\n",
    "neighbors = {i: indices[i] for i in range(len(indices))}\n",
    "\n",
    "# Display the neighbors\n",
    "print(neighbors)"
   ]
  },
  {
   "cell_type": "code",
   "execution_count": 9,
   "id": "fde8b353",
   "metadata": {},
   "outputs": [
    {
     "ename": "MemoryError",
     "evalue": "Unable to allocate 56.2 GiB for an array with shape (86813, 86813) and data type float64",
     "output_type": "error",
     "traceback": [
      "\u001b[1;31m---------------------------------------------------------------------------\u001b[0m",
      "\u001b[1;31mMemoryError\u001b[0m                               Traceback (most recent call last)",
      "\u001b[1;32m~\\AppData\\Local\\Temp\\ipykernel_21024\\1319563475.py\u001b[0m in \u001b[0;36m<module>\u001b[1;34m\u001b[0m\n\u001b[0;32m      4\u001b[0m     \u001b[1;32mraise\u001b[0m \u001b[0mValueError\u001b[0m\u001b[1;33m(\u001b[0m\u001b[1;34m\"Coordinates array is empty. Check your data and merging process.\"\u001b[0m\u001b[1;33m)\u001b[0m\u001b[1;33m\u001b[0m\u001b[1;33m\u001b[0m\u001b[0m\n\u001b[0;32m      5\u001b[0m \u001b[1;33m\u001b[0m\u001b[0m\n\u001b[1;32m----> 6\u001b[1;33m \u001b[0mdist_matrix\u001b[0m \u001b[1;33m=\u001b[0m \u001b[0mhaversine_distances\u001b[0m\u001b[1;33m(\u001b[0m\u001b[0mcoords\u001b[0m\u001b[1;33m)\u001b[0m \u001b[1;33m*\u001b[0m \u001b[1;36m6371\u001b[0m  \u001b[1;31m# Convert to kilometers\u001b[0m\u001b[1;33m\u001b[0m\u001b[1;33m\u001b[0m\u001b[0m\n\u001b[0m\u001b[0;32m      7\u001b[0m \u001b[1;33m\u001b[0m\u001b[0m\n\u001b[0;32m      8\u001b[0m \u001b[1;31m# Define a radius (1 km)\u001b[0m\u001b[1;33m\u001b[0m\u001b[1;33m\u001b[0m\u001b[0m\n",
      "\u001b[1;32m~\\anaconda3\\lib\\site-packages\\sklearn\\metrics\\pairwise.py\u001b[0m in \u001b[0;36mhaversine_distances\u001b[1;34m(X, Y)\u001b[0m\n\u001b[0;32m    786\u001b[0m     \u001b[1;32mfrom\u001b[0m \u001b[1;33m.\u001b[0m\u001b[1;33m.\u001b[0m\u001b[0mmetrics\u001b[0m \u001b[1;32mimport\u001b[0m \u001b[0mDistanceMetric\u001b[0m\u001b[1;33m\u001b[0m\u001b[1;33m\u001b[0m\u001b[0m\n\u001b[0;32m    787\u001b[0m \u001b[1;33m\u001b[0m\u001b[0m\n\u001b[1;32m--> 788\u001b[1;33m     \u001b[1;32mreturn\u001b[0m \u001b[0mDistanceMetric\u001b[0m\u001b[1;33m.\u001b[0m\u001b[0mget_metric\u001b[0m\u001b[1;33m(\u001b[0m\u001b[1;34m\"haversine\"\u001b[0m\u001b[1;33m)\u001b[0m\u001b[1;33m.\u001b[0m\u001b[0mpairwise\u001b[0m\u001b[1;33m(\u001b[0m\u001b[0mX\u001b[0m\u001b[1;33m,\u001b[0m \u001b[0mY\u001b[0m\u001b[1;33m)\u001b[0m\u001b[1;33m\u001b[0m\u001b[1;33m\u001b[0m\u001b[0m\n\u001b[0m\u001b[0;32m    789\u001b[0m \u001b[1;33m\u001b[0m\u001b[0m\n\u001b[0;32m    790\u001b[0m \u001b[1;33m\u001b[0m\u001b[0m\n",
      "\u001b[1;32msklearn\\metrics\\_dist_metrics.pyx\u001b[0m in \u001b[0;36msklearn.metrics._dist_metrics.DistanceMetric.pairwise\u001b[1;34m()\u001b[0m\n",
      "\u001b[1;31mMemoryError\u001b[0m: Unable to allocate 56.2 GiB for an array with shape (86813, 86813) and data type float64"
     ]
    }
   ],
   "source": [
    "from sklearn.metrics.pairwise import haversine_distances\n",
    "# coords = df[['latitude_radians', 'longitude_radians']].values\n",
    "# if coords.size == 0:\n",
    "#     raise ValueError(\"Coordinates array is empty. Check your data and merging process.\")\n",
    "\n",
    "# dist_matrix = haversine_distances(coords) * 6371  # Convert to kilometers\n",
    "\n",
    "# # Define a radius (1 km)\n",
    "# radius = 1\n",
    "\n",
    "# # Identify neighbors within the radius\n",
    "# neighbors = {i: np.where(dist_matrix[i] <= radius)[0] for i in range(len(df))}"
   ]
  },
  {
   "cell_type": "markdown",
   "id": "66336f2b",
   "metadata": {},
   "source": [
    "# Calculate outlier scores"
   ]
  },
  {
   "cell_type": "code",
   "execution_count": 15,
   "id": "3f7b546b",
   "metadata": {},
   "outputs": [
    {
     "ename": "KeyboardInterrupt",
     "evalue": "",
     "output_type": "error",
     "traceback": [
      "\u001b[1;31m---------------------------------------------------------------------------\u001b[0m",
      "\u001b[1;31mKeyboardInterrupt\u001b[0m                         Traceback (most recent call last)",
      "\u001b[1;32m~\\AppData\\Local\\Temp\\ipykernel_21024\\95615506.py\u001b[0m in \u001b[0;36m<module>\u001b[1;34m\u001b[0m\n\u001b[0;32m     17\u001b[0m \u001b[1;33m\u001b[0m\u001b[0m\n\u001b[0;32m     18\u001b[0m \u001b[1;31m# Calculate outlier scores\u001b[0m\u001b[1;33m\u001b[0m\u001b[1;33m\u001b[0m\u001b[0m\n\u001b[1;32m---> 19\u001b[1;33m \u001b[0moutlier_scores\u001b[0m \u001b[1;33m=\u001b[0m \u001b[0mcalculate_outlier_scores\u001b[0m\u001b[1;33m(\u001b[0m\u001b[0mneighbors\u001b[0m\u001b[1;33m,\u001b[0m \u001b[0mdf\u001b[0m\u001b[1;33m,\u001b[0m \u001b[0mid_column\u001b[0m\u001b[1;33m)\u001b[0m\u001b[1;33m\u001b[0m\u001b[1;33m\u001b[0m\u001b[0m\n\u001b[0m\u001b[0;32m     20\u001b[0m \u001b[0mprint\u001b[0m\u001b[1;33m(\u001b[0m\u001b[0moutlier_scores\u001b[0m\u001b[1;33m.\u001b[0m\u001b[0mhead\u001b[0m\u001b[1;33m(\u001b[0m\u001b[1;33m)\u001b[0m\u001b[1;33m)\u001b[0m\u001b[1;33m\u001b[0m\u001b[1;33m\u001b[0m\u001b[0m\n",
      "\u001b[1;32m~\\AppData\\Local\\Temp\\ipykernel_21024\\95615506.py\u001b[0m in \u001b[0;36mcalculate_outlier_scores\u001b[1;34m(neighbors, df, id_column)\u001b[0m\n\u001b[0;32m      4\u001b[0m         \u001b[1;32mif\u001b[0m \u001b[0mlen\u001b[0m\u001b[1;33m(\u001b[0m\u001b[0mneighbor_indices\u001b[0m\u001b[1;33m)\u001b[0m \u001b[1;33m>\u001b[0m \u001b[1;36m1\u001b[0m\u001b[1;33m:\u001b[0m\u001b[1;33m\u001b[0m\u001b[1;33m\u001b[0m\u001b[0m\n\u001b[0;32m      5\u001b[0m             \u001b[1;32mfor\u001b[0m \u001b[0mparty\u001b[0m \u001b[1;32min\u001b[0m \u001b[1;33m[\u001b[0m\u001b[1;34m'APC'\u001b[0m\u001b[1;33m,\u001b[0m \u001b[1;34m'LP'\u001b[0m\u001b[1;33m,\u001b[0m \u001b[1;34m'PDP'\u001b[0m\u001b[1;33m,\u001b[0m \u001b[1;34m'NNPP'\u001b[0m\u001b[1;33m]\u001b[0m\u001b[1;33m:\u001b[0m\u001b[1;33m\u001b[0m\u001b[1;33m\u001b[0m\u001b[0m\n\u001b[1;32m----> 6\u001b[1;33m                 \u001b[0mvotes\u001b[0m \u001b[1;33m=\u001b[0m \u001b[0mdf\u001b[0m\u001b[1;33m.\u001b[0m\u001b[0miloc\u001b[0m\u001b[1;33m[\u001b[0m\u001b[0mneighbor_indices\u001b[0m\u001b[1;33m]\u001b[0m\u001b[1;33m[\u001b[0m\u001b[0mparty\u001b[0m\u001b[1;33m]\u001b[0m\u001b[1;33m.\u001b[0m\u001b[0mvalues\u001b[0m\u001b[1;33m\u001b[0m\u001b[1;33m\u001b[0m\u001b[0m\n\u001b[0m\u001b[0;32m      7\u001b[0m                 \u001b[0mz_scores\u001b[0m \u001b[1;33m=\u001b[0m \u001b[0mzscore\u001b[0m\u001b[1;33m(\u001b[0m\u001b[0mvotes\u001b[0m\u001b[1;33m)\u001b[0m\u001b[1;33m\u001b[0m\u001b[1;33m\u001b[0m\u001b[0m\n\u001b[0;32m      8\u001b[0m                 outlier_scores.append({\n",
      "\u001b[1;32m~\\anaconda3\\lib\\site-packages\\pandas\\core\\indexing.py\u001b[0m in \u001b[0;36m__getitem__\u001b[1;34m(self, key)\u001b[0m\n\u001b[0;32m    965\u001b[0m \u001b[1;33m\u001b[0m\u001b[0m\n\u001b[0;32m    966\u001b[0m             \u001b[0mmaybe_callable\u001b[0m \u001b[1;33m=\u001b[0m \u001b[0mcom\u001b[0m\u001b[1;33m.\u001b[0m\u001b[0mapply_if_callable\u001b[0m\u001b[1;33m(\u001b[0m\u001b[0mkey\u001b[0m\u001b[1;33m,\u001b[0m \u001b[0mself\u001b[0m\u001b[1;33m.\u001b[0m\u001b[0mobj\u001b[0m\u001b[1;33m)\u001b[0m\u001b[1;33m\u001b[0m\u001b[1;33m\u001b[0m\u001b[0m\n\u001b[1;32m--> 967\u001b[1;33m             \u001b[1;32mreturn\u001b[0m \u001b[0mself\u001b[0m\u001b[1;33m.\u001b[0m\u001b[0m_getitem_axis\u001b[0m\u001b[1;33m(\u001b[0m\u001b[0mmaybe_callable\u001b[0m\u001b[1;33m,\u001b[0m \u001b[0maxis\u001b[0m\u001b[1;33m=\u001b[0m\u001b[0maxis\u001b[0m\u001b[1;33m)\u001b[0m\u001b[1;33m\u001b[0m\u001b[1;33m\u001b[0m\u001b[0m\n\u001b[0m\u001b[0;32m    968\u001b[0m \u001b[1;33m\u001b[0m\u001b[0m\n\u001b[0;32m    969\u001b[0m     \u001b[1;32mdef\u001b[0m \u001b[0m_is_scalar_access\u001b[0m\u001b[1;33m(\u001b[0m\u001b[0mself\u001b[0m\u001b[1;33m,\u001b[0m \u001b[0mkey\u001b[0m\u001b[1;33m:\u001b[0m \u001b[0mtuple\u001b[0m\u001b[1;33m)\u001b[0m\u001b[1;33m:\u001b[0m\u001b[1;33m\u001b[0m\u001b[1;33m\u001b[0m\u001b[0m\n",
      "\u001b[1;32m~\\anaconda3\\lib\\site-packages\\pandas\\core\\indexing.py\u001b[0m in \u001b[0;36m_getitem_axis\u001b[1;34m(self, key, axis)\u001b[0m\n\u001b[0;32m   1512\u001b[0m         \u001b[1;31m# a list of integers\u001b[0m\u001b[1;33m\u001b[0m\u001b[1;33m\u001b[0m\u001b[0m\n\u001b[0;32m   1513\u001b[0m         \u001b[1;32melif\u001b[0m \u001b[0mis_list_like_indexer\u001b[0m\u001b[1;33m(\u001b[0m\u001b[0mkey\u001b[0m\u001b[1;33m)\u001b[0m\u001b[1;33m:\u001b[0m\u001b[1;33m\u001b[0m\u001b[1;33m\u001b[0m\u001b[0m\n\u001b[1;32m-> 1514\u001b[1;33m             \u001b[1;32mreturn\u001b[0m \u001b[0mself\u001b[0m\u001b[1;33m.\u001b[0m\u001b[0m_get_list_axis\u001b[0m\u001b[1;33m(\u001b[0m\u001b[0mkey\u001b[0m\u001b[1;33m,\u001b[0m \u001b[0maxis\u001b[0m\u001b[1;33m=\u001b[0m\u001b[0maxis\u001b[0m\u001b[1;33m)\u001b[0m\u001b[1;33m\u001b[0m\u001b[1;33m\u001b[0m\u001b[0m\n\u001b[0m\u001b[0;32m   1515\u001b[0m \u001b[1;33m\u001b[0m\u001b[0m\n\u001b[0;32m   1516\u001b[0m         \u001b[1;31m# a single integer\u001b[0m\u001b[1;33m\u001b[0m\u001b[1;33m\u001b[0m\u001b[0m\n",
      "\u001b[1;32m~\\anaconda3\\lib\\site-packages\\pandas\\core\\indexing.py\u001b[0m in \u001b[0;36m_get_list_axis\u001b[1;34m(self, key, axis)\u001b[0m\n\u001b[0;32m   1483\u001b[0m         \"\"\"\n\u001b[0;32m   1484\u001b[0m         \u001b[1;32mtry\u001b[0m\u001b[1;33m:\u001b[0m\u001b[1;33m\u001b[0m\u001b[1;33m\u001b[0m\u001b[0m\n\u001b[1;32m-> 1485\u001b[1;33m             \u001b[1;32mreturn\u001b[0m \u001b[0mself\u001b[0m\u001b[1;33m.\u001b[0m\u001b[0mobj\u001b[0m\u001b[1;33m.\u001b[0m\u001b[0m_take_with_is_copy\u001b[0m\u001b[1;33m(\u001b[0m\u001b[0mkey\u001b[0m\u001b[1;33m,\u001b[0m \u001b[0maxis\u001b[0m\u001b[1;33m=\u001b[0m\u001b[0maxis\u001b[0m\u001b[1;33m)\u001b[0m\u001b[1;33m\u001b[0m\u001b[1;33m\u001b[0m\u001b[0m\n\u001b[0m\u001b[0;32m   1486\u001b[0m         \u001b[1;32mexcept\u001b[0m \u001b[0mIndexError\u001b[0m \u001b[1;32mas\u001b[0m \u001b[0merr\u001b[0m\u001b[1;33m:\u001b[0m\u001b[1;33m\u001b[0m\u001b[1;33m\u001b[0m\u001b[0m\n\u001b[0;32m   1487\u001b[0m             \u001b[1;31m# re-raise with different error message\u001b[0m\u001b[1;33m\u001b[0m\u001b[1;33m\u001b[0m\u001b[0m\n",
      "\u001b[1;32m~\\anaconda3\\lib\\site-packages\\pandas\\core\\generic.py\u001b[0m in \u001b[0;36m_take_with_is_copy\u001b[1;34m(self, indices, axis)\u001b[0m\n\u001b[0;32m   3714\u001b[0m         \u001b[0mSee\u001b[0m \u001b[0mthe\u001b[0m \u001b[0mdocstring\u001b[0m \u001b[0mof\u001b[0m\u001b[0;31m \u001b[0m\u001b[0;31m`\u001b[0m\u001b[0mtake\u001b[0m\u001b[0;31m`\u001b[0m \u001b[1;32mfor\u001b[0m \u001b[0mfull\u001b[0m \u001b[0mexplanation\u001b[0m \u001b[0mof\u001b[0m \u001b[0mthe\u001b[0m \u001b[0mparameters\u001b[0m\u001b[1;33m.\u001b[0m\u001b[1;33m\u001b[0m\u001b[1;33m\u001b[0m\u001b[0m\n\u001b[0;32m   3715\u001b[0m         \"\"\"\n\u001b[1;32m-> 3716\u001b[1;33m         \u001b[0mresult\u001b[0m \u001b[1;33m=\u001b[0m \u001b[0mself\u001b[0m\u001b[1;33m.\u001b[0m\u001b[0mtake\u001b[0m\u001b[1;33m(\u001b[0m\u001b[0mindices\u001b[0m\u001b[1;33m=\u001b[0m\u001b[0mindices\u001b[0m\u001b[1;33m,\u001b[0m \u001b[0maxis\u001b[0m\u001b[1;33m=\u001b[0m\u001b[0maxis\u001b[0m\u001b[1;33m)\u001b[0m\u001b[1;33m\u001b[0m\u001b[1;33m\u001b[0m\u001b[0m\n\u001b[0m\u001b[0;32m   3717\u001b[0m         \u001b[1;31m# Maybe set copy if we didn't actually change the index.\u001b[0m\u001b[1;33m\u001b[0m\u001b[1;33m\u001b[0m\u001b[0m\n\u001b[0;32m   3718\u001b[0m         \u001b[1;32mif\u001b[0m \u001b[1;32mnot\u001b[0m \u001b[0mresult\u001b[0m\u001b[1;33m.\u001b[0m\u001b[0m_get_axis\u001b[0m\u001b[1;33m(\u001b[0m\u001b[0maxis\u001b[0m\u001b[1;33m)\u001b[0m\u001b[1;33m.\u001b[0m\u001b[0mequals\u001b[0m\u001b[1;33m(\u001b[0m\u001b[0mself\u001b[0m\u001b[1;33m.\u001b[0m\u001b[0m_get_axis\u001b[0m\u001b[1;33m(\u001b[0m\u001b[0maxis\u001b[0m\u001b[1;33m)\u001b[0m\u001b[1;33m)\u001b[0m\u001b[1;33m:\u001b[0m\u001b[1;33m\u001b[0m\u001b[1;33m\u001b[0m\u001b[0m\n",
      "\u001b[1;32m~\\anaconda3\\lib\\site-packages\\pandas\\core\\generic.py\u001b[0m in \u001b[0;36mtake\u001b[1;34m(self, indices, axis, is_copy, **kwargs)\u001b[0m\n\u001b[0;32m   3701\u001b[0m         \u001b[0mself\u001b[0m\u001b[1;33m.\u001b[0m\u001b[0m_consolidate_inplace\u001b[0m\u001b[1;33m(\u001b[0m\u001b[1;33m)\u001b[0m\u001b[1;33m\u001b[0m\u001b[1;33m\u001b[0m\u001b[0m\n\u001b[0;32m   3702\u001b[0m \u001b[1;33m\u001b[0m\u001b[0m\n\u001b[1;32m-> 3703\u001b[1;33m         new_data = self._mgr.take(\n\u001b[0m\u001b[0;32m   3704\u001b[0m             \u001b[0mindices\u001b[0m\u001b[1;33m,\u001b[0m \u001b[0maxis\u001b[0m\u001b[1;33m=\u001b[0m\u001b[0mself\u001b[0m\u001b[1;33m.\u001b[0m\u001b[0m_get_block_manager_axis\u001b[0m\u001b[1;33m(\u001b[0m\u001b[0maxis\u001b[0m\u001b[1;33m)\u001b[0m\u001b[1;33m,\u001b[0m \u001b[0mverify\u001b[0m\u001b[1;33m=\u001b[0m\u001b[1;32mTrue\u001b[0m\u001b[1;33m\u001b[0m\u001b[1;33m\u001b[0m\u001b[0m\n\u001b[0;32m   3705\u001b[0m         )\n",
      "\u001b[1;32m~\\anaconda3\\lib\\site-packages\\pandas\\core\\internals\\managers.py\u001b[0m in \u001b[0;36mtake\u001b[1;34m(self, indexer, axis, verify)\u001b[0m\n\u001b[0;32m    892\u001b[0m \u001b[1;33m\u001b[0m\u001b[0m\n\u001b[0;32m    893\u001b[0m         \u001b[0mn\u001b[0m \u001b[1;33m=\u001b[0m \u001b[0mself\u001b[0m\u001b[1;33m.\u001b[0m\u001b[0mshape\u001b[0m\u001b[1;33m[\u001b[0m\u001b[0maxis\u001b[0m\u001b[1;33m]\u001b[0m\u001b[1;33m\u001b[0m\u001b[1;33m\u001b[0m\u001b[0m\n\u001b[1;32m--> 894\u001b[1;33m         \u001b[0mindexer\u001b[0m \u001b[1;33m=\u001b[0m \u001b[0mmaybe_convert_indices\u001b[0m\u001b[1;33m(\u001b[0m\u001b[0mindexer\u001b[0m\u001b[1;33m,\u001b[0m \u001b[0mn\u001b[0m\u001b[1;33m,\u001b[0m \u001b[0mverify\u001b[0m\u001b[1;33m=\u001b[0m\u001b[0mverify\u001b[0m\u001b[1;33m)\u001b[0m\u001b[1;33m\u001b[0m\u001b[1;33m\u001b[0m\u001b[0m\n\u001b[0m\u001b[0;32m    895\u001b[0m \u001b[1;33m\u001b[0m\u001b[0m\n\u001b[0;32m    896\u001b[0m         \u001b[0mnew_labels\u001b[0m \u001b[1;33m=\u001b[0m \u001b[0mself\u001b[0m\u001b[1;33m.\u001b[0m\u001b[0maxes\u001b[0m\u001b[1;33m[\u001b[0m\u001b[0maxis\u001b[0m\u001b[1;33m]\u001b[0m\u001b[1;33m.\u001b[0m\u001b[0mtake\u001b[0m\u001b[1;33m(\u001b[0m\u001b[0mindexer\u001b[0m\u001b[1;33m)\u001b[0m\u001b[1;33m\u001b[0m\u001b[1;33m\u001b[0m\u001b[0m\n",
      "\u001b[1;32m~\\anaconda3\\lib\\site-packages\\pandas\\core\\indexers\\utils.py\u001b[0m in \u001b[0;36mmaybe_convert_indices\u001b[1;34m(indices, n, verify)\u001b[0m\n\u001b[0;32m    282\u001b[0m             \u001b[1;32mreturn\u001b[0m \u001b[0mnp\u001b[0m\u001b[1;33m.\u001b[0m\u001b[0mempty\u001b[0m\u001b[1;33m(\u001b[0m\u001b[1;36m0\u001b[0m\u001b[1;33m,\u001b[0m \u001b[0mdtype\u001b[0m\u001b[1;33m=\u001b[0m\u001b[0mnp\u001b[0m\u001b[1;33m.\u001b[0m\u001b[0mintp\u001b[0m\u001b[1;33m)\u001b[0m\u001b[1;33m\u001b[0m\u001b[1;33m\u001b[0m\u001b[0m\n\u001b[0;32m    283\u001b[0m \u001b[1;33m\u001b[0m\u001b[0m\n\u001b[1;32m--> 284\u001b[1;33m     \u001b[0mmask\u001b[0m \u001b[1;33m=\u001b[0m \u001b[0mindices\u001b[0m \u001b[1;33m<\u001b[0m \u001b[1;36m0\u001b[0m\u001b[1;33m\u001b[0m\u001b[1;33m\u001b[0m\u001b[0m\n\u001b[0m\u001b[0;32m    285\u001b[0m     \u001b[1;32mif\u001b[0m \u001b[0mmask\u001b[0m\u001b[1;33m.\u001b[0m\u001b[0many\u001b[0m\u001b[1;33m(\u001b[0m\u001b[1;33m)\u001b[0m\u001b[1;33m:\u001b[0m\u001b[1;33m\u001b[0m\u001b[1;33m\u001b[0m\u001b[0m\n\u001b[0;32m    286\u001b[0m         \u001b[0mindices\u001b[0m \u001b[1;33m=\u001b[0m \u001b[0mindices\u001b[0m\u001b[1;33m.\u001b[0m\u001b[0mcopy\u001b[0m\u001b[1;33m(\u001b[0m\u001b[1;33m)\u001b[0m\u001b[1;33m\u001b[0m\u001b[1;33m\u001b[0m\u001b[0m\n",
      "\u001b[1;31mKeyboardInterrupt\u001b[0m: "
     ]
    }
   ],
   "source": [
    "def calculate_outlier_scores(neighbors, df, id_column):\n",
    "    outlier_scores = []\n",
    "    for i, neighbor_indices in neighbors.items():\n",
    "        if len(neighbor_indices) > 1:\n",
    "            for party in ['APC', 'LP', 'PDP', 'NNPP']:\n",
    "                votes = df.iloc[neighbor_indices][party].values\n",
    "                z_scores = zscore(votes)\n",
    "                outlier_scores.append({\n",
    "                    id_column: df.iloc[i][id_column],\n",
    "                    'party': party,\n",
    "                    'outlier_score': z_scores[np.where(neighbor_indices == i)[0][0]]\n",
    "                })\n",
    "    return pd.DataFrame(outlier_scores)\n",
    "\n",
    "# Determine the appropriate identifier column\n",
    "id_column = 'unit_id' if 'unit_id' in df.columns else df.columns[4]\n",
    "\n",
    "# Calculate outlier scores\n",
    "outlier_scores = calculate_outlier_scores(neighbors, df, id_column)\n",
    "print(outlier_scores.head())"
   ]
  },
  {
   "cell_type": "code",
   "execution_count": 122,
   "id": "2851069b",
   "metadata": {},
   "outputs": [
    {
     "name": "stdout",
     "output_type": "stream",
     "text": [
      "  PU-Name  latitude  longitude  APC   LP  PDP  NNPP  APC_outlier_score  \\\n",
      "0     PU1    6.5244     3.3792  100  200  300    50          33.333333   \n",
      "1     PU2    6.5245     3.3793  150  180  280    60          33.333333   \n",
      "2     PU3    6.5246     3.3794  120  210  290    55           6.666667   \n",
      "3     PU4    6.5247     3.3795  130  220  310    65           6.666667   \n",
      "\n",
      "   LP_outlier_score  PDP_outlier_score  NNPP_outlier_score  \n",
      "0          3.333333           6.666667           10.000000  \n",
      "1         30.000000          20.000000            3.333333  \n",
      "2         10.000000           6.666667            3.333333  \n",
      "3         23.333333          20.000000           10.000000  \n"
     ]
    }
   ],
   "source": [
    "# Define a function to calculate the outlier score\n",
    "def calculate_outlier_score(votes, neighbor_votes):\n",
    "    return abs(votes - np.mean(neighbor_votes))\n",
    "\n",
    "# Sample DataFrame\n",
    "data = {\n",
    "    'PU-Name': ['PU1', 'PU2', 'PU3', 'PU4'],\n",
    "    'latitude': [6.5244, 6.5245, 6.5246, 6.5247],\n",
    "    'longitude': [3.3792, 3.3793, 3.3794, 3.3795],\n",
    "    'APC': [100, 150, 120, 130],\n",
    "    'LP': [200, 180, 210, 220],\n",
    "    'PDP': [300, 280, 290, 310],\n",
    "    'NNPP': [50, 60, 55, 65]\n",
    "}\n",
    "df = pd.DataFrame(data)\n",
    "\n",
    "# Define a radius (in km)\n",
    "radius = 1\n",
    "\n",
    "# Initialize outlier score columns\n",
    "df['APC_outlier_score'] = 0.0\n",
    "df['LP_outlier_score'] = 0.0\n",
    "df['PDP_outlier_score'] = 0.0\n",
    "df['NNPP_outlier_score'] = 0.0\n",
    "\n",
    "# Calculate outlier scores for each polling unit\n",
    "for i, row in df.iterrows():\n",
    "    # Get the coordinates of the current polling unit\n",
    "    current_coords = (row['latitude'], row['longitude'])\n",
    "    \n",
    "    # Find neighboring polling units\n",
    "    neighbors = []\n",
    "    for j, neighbor_row in df.iterrows():\n",
    "        if i != j:\n",
    "            neighbor_coords = (neighbor_row['latitude'], neighbor_row['longitude'])\n",
    "            distance = geodesic(current_coords, neighbor_coords).kilometers\n",
    "            if distance <= radius:\n",
    "                neighbors.append(neighbor_row)\n",
    "    \n",
    "    if neighbors:\n",
    "        # Calculate outlier scores for each party\n",
    "        neighbors_df = pd.DataFrame(neighbors)\n",
    "        df.at[i, 'APC_outlier_score'] = calculate_outlier_score(row['APC'], neighbors_df['APC'])\n",
    "        df.at[i, 'LP_outlier_score'] = calculate_outlier_score(row['LP'], neighbors_df['LP'])\n",
    "        df.at[i, 'PDP_outlier_score'] = calculate_outlier_score(row['PDP'], neighbors_df['PDP'])\n",
    "        df.at[i, 'NNPP_outlier_score'] = calculate_outlier_score(row['NNPP'], neighbors_df['NNPP'])\n",
    "\n",
    "print(df)"
   ]
  },
  {
   "cell_type": "markdown",
   "id": "4860fb85",
   "metadata": {},
   "source": [
    "### Save the cleaned dataset to a CSV file"
   ]
  },
  {
   "cell_type": "code",
   "execution_count": 119,
   "id": "4c651ca6",
   "metadata": {},
   "outputs": [
    {
     "name": "stdout",
     "output_type": "stream",
     "text": [
      "Cleaned dataset saved to gina_cleaned_delta_election_data_with_outlier_scores.csv\n"
     ]
    }
   ],
   "source": [
    "cleaned_dataset_filename = 'gina_cleaned_delta_election_data_with_outlier_scores.csv'\n",
    "df.to_csv(cleaned_dataset_filename, index=False)\n",
    "\n",
    "print(f\"Cleaned dataset saved to {cleaned_dataset_filename}\")"
   ]
  },
  {
   "cell_type": "markdown",
   "id": "c8bdbc4f",
   "metadata": {},
   "source": [
    "## Visualization"
   ]
  },
  {
   "cell_type": "code",
   "execution_count": 123,
   "id": "bbd74d31",
   "metadata": {},
   "outputs": [
    {
     "data": {
      "image/png": "[encoded data removed]",
      "text/plain": [
       "<Figure size 1000x600 with 1 Axes>"
      ]
     },
     "metadata": {},
     "output_type": "display_data"
    }
   ],
   "source": [
    "# Plotting the bar chart for PDP outlier scores\n",
    "plt.figure(figsize=(10, 6))\n",
    "plt.bar(df['PU-Name'], df['PDP_outlier_score'])\n",
    "plt.xticks(rotation=90)\n",
    "plt.xlabel('Polling Unit')\n",
    "plt.ylabel('Outlier Score')\n",
    "plt.title('Outlier Scores for PDP')\n",
    "plt.tight_layout()\n",
    "plt.show()\n"
   ]
  },
  {
   "cell_type": "code",
   "execution_count": 125,
   "id": "6ef39eb6",
   "metadata": {},
   "outputs": [
    {
     "data": {
      "text/html": [
       "<div style=\"width:100%;\"><div style=\"position:relative;width:100%;height:0;padding-bottom:60%;\"><span style=\"color:#565656\">Make this Notebook Trusted to load map: File -> Trust Notebook</span><iframe srcdoc=\"&lt;!DOCTYPE html&gt;\n",
       "&lt;html&gt;\n",
       "&lt;head&gt;\n",
       "    \n",
       "    &lt;meta http-equiv=&quot;content-type&quot; content=&quot;text/html; charset=UTF-8&quot; /&gt;\n",
       "    \n",
       "        &lt;script&gt;\n",
       "            L_NO_TOUCH = false;\n",
       "            L_DISABLE_3D = false;\n",
       "        &lt;/script&gt;\n",
       "    \n",
       "    &lt;style&gt;html, body {width: 100%;height: 100%;margin: 0;padding: 0;}&lt;/style&gt;\n",
       "    &lt;style&gt;#map {position:absolute;top:0;bottom:0;right:0;left:0;}&lt;/style&gt;\n",
       "    &lt;script src=&quot;https://cdn.jsdelivr.net/npm/leaflet@1.9.3/dist/leaflet.js&quot;&gt;&lt;/script&gt;\n",
       "    &lt;script src=&quot;https://code.jquery.com/jquery-3.7.1.min.js&quot;&gt;&lt;/script&gt;\n",
       "    &lt;script src=&quot;https://cdn.jsdelivr.net/npm/bootstrap@5.2.2/dist/js/bootstrap.bundle.min.js&quot;&gt;&lt;/script&gt;\n",
       "    &lt;script src=&quot;https://cdnjs.cloudflare.com/ajax/libs/Leaflet.awesome-markers/2.0.2/leaflet.awesome-markers.js&quot;&gt;&lt;/script&gt;\n",
       "    &lt;link rel=&quot;stylesheet&quot; href=&quot;https://cdn.jsdelivr.net/npm/leaflet@1.9.3/dist/leaflet.css&quot;/&gt;\n",
       "    &lt;link rel=&quot;stylesheet&quot; href=&quot;https://cdn.jsdelivr.net/npm/bootstrap@5.2.2/dist/css/bootstrap.min.css&quot;/&gt;\n",
       "    &lt;link rel=&quot;stylesheet&quot; href=&quot;https://netdna.bootstrapcdn.com/bootstrap/3.0.0/css/bootstrap-glyphicons.css&quot;/&gt;\n",
       "    &lt;link rel=&quot;stylesheet&quot; href=&quot;https://cdn.jsdelivr.net/npm/@fortawesome/fontawesome-free@6.2.0/css/all.min.css&quot;/&gt;\n",
       "    &lt;link rel=&quot;stylesheet&quot; href=&quot;https://cdnjs.cloudflare.com/ajax/libs/Leaflet.awesome-markers/2.0.2/leaflet.awesome-markers.css&quot;/&gt;\n",
       "    &lt;link rel=&quot;stylesheet&quot; href=&quot;https://cdn.jsdelivr.net/gh/python-visualization/folium/folium/templates/leaflet.awesome.rotate.min.css&quot;/&gt;\n",
       "    \n",
       "            &lt;meta name=&quot;viewport&quot; content=&quot;width=device-width,\n",
       "                initial-scale=1.0, maximum-scale=1.0, user-scalable=no&quot; /&gt;\n",
       "            &lt;style&gt;\n",
       "                #map_bad6afd0eb17cb427c6519312d156cf3 {\n",
       "                    position: relative;\n",
       "                    width: 100.0%;\n",
       "                    height: 100.0%;\n",
       "                    left: 0.0%;\n",
       "                    top: 0.0%;\n",
       "                }\n",
       "                .leaflet-container { font-size: 1rem; }\n",
       "            &lt;/style&gt;\n",
       "        \n",
       "&lt;/head&gt;\n",
       "&lt;body&gt;\n",
       "    \n",
       "    \n",
       "            &lt;div class=&quot;folium-map&quot; id=&quot;map_bad6afd0eb17cb427c6519312d156cf3&quot; &gt;&lt;/div&gt;\n",
       "        \n",
       "&lt;/body&gt;\n",
       "&lt;script&gt;\n",
       "    \n",
       "    \n",
       "            var map_bad6afd0eb17cb427c6519312d156cf3 = L.map(\n",
       "                &quot;map_bad6afd0eb17cb427c6519312d156cf3&quot;,\n",
       "                {\n",
       "                    center: [6.52455, 3.37935],\n",
       "                    crs: L.CRS.EPSG3857,\n",
       "                    zoom: 12,\n",
       "                    zoomControl: true,\n",
       "                    preferCanvas: false,\n",
       "                }\n",
       "            );\n",
       "\n",
       "            \n",
       "\n",
       "        \n",
       "    \n",
       "            var tile_layer_9fe9935139669055abc1019d8386f119 = L.tileLayer(\n",
       "                &quot;https://tile.openstreetmap.org/{z}/{x}/{y}.png&quot;,\n",
       "                {&quot;attribution&quot;: &quot;\\u0026copy; \\u003ca href=\\&quot;https://www.openstreetmap.org/copyright\\&quot;\\u003eOpenStreetMap\\u003c/a\\u003e contributors&quot;, &quot;detectRetina&quot;: false, &quot;maxNativeZoom&quot;: 19, &quot;maxZoom&quot;: 19, &quot;minZoom&quot;: 0, &quot;noWrap&quot;: false, &quot;opacity&quot;: 1, &quot;subdomains&quot;: &quot;abc&quot;, &quot;tms&quot;: false}\n",
       "            );\n",
       "        \n",
       "    \n",
       "            tile_layer_9fe9935139669055abc1019d8386f119.addTo(map_bad6afd0eb17cb427c6519312d156cf3);\n",
       "        \n",
       "    \n",
       "            var marker_6993d9d85623ef4a535c2e8af065c9dd = L.marker(\n",
       "                [6.5244, 3.3792],\n",
       "                {}\n",
       "            ).addTo(map_bad6afd0eb17cb427c6519312d156cf3);\n",
       "        \n",
       "    \n",
       "        var popup_980c15a299c5c9a9241e16e1ff4b2a7e = L.popup({&quot;maxWidth&quot;: &quot;100%&quot;});\n",
       "\n",
       "        \n",
       "            \n",
       "                var html_1a5c5023461ba60860747dc2e0419b97 = $(`&lt;div id=&quot;html_1a5c5023461ba60860747dc2e0419b97&quot; style=&quot;width: 100.0%; height: 100.0%;&quot;&gt;Polling Unit: PU1 APC Outlier Score: 33.33333333333334 LP Outlier Score: 3.333333333333343 PDP Outlier Score: 6.666666666666686 NNPP Outlier Score: 10.0&lt;/div&gt;`)[0];\n",
       "                popup_980c15a299c5c9a9241e16e1ff4b2a7e.setContent(html_1a5c5023461ba60860747dc2e0419b97);\n",
       "            \n",
       "        \n",
       "\n",
       "        marker_6993d9d85623ef4a535c2e8af065c9dd.bindPopup(popup_980c15a299c5c9a9241e16e1ff4b2a7e)\n",
       "        ;\n",
       "\n",
       "        \n",
       "    \n",
       "    \n",
       "            var marker_1c19af3e306bbf188b42f25c2f42f9a8 = L.marker(\n",
       "                [6.5245, 3.3793],\n",
       "                {}\n",
       "            ).addTo(map_bad6afd0eb17cb427c6519312d156cf3);\n",
       "        \n",
       "    \n",
       "        var popup_8a51292773acdfdd8472cce82da109e3 = L.popup({&quot;maxWidth&quot;: &quot;100%&quot;});\n",
       "\n",
       "        \n",
       "            \n",
       "                var html_58fcb009c8a53a6223c59cec208e5729 = $(`&lt;div id=&quot;html_58fcb009c8a53a6223c59cec208e5729&quot; style=&quot;width: 100.0%; height: 100.0%;&quot;&gt;Polling Unit: PU2 APC Outlier Score: 33.33333333333333 LP Outlier Score: 30.0 PDP Outlier Score: 20.0 NNPP Outlier Score: 3.3333333333333357&lt;/div&gt;`)[0];\n",
       "                popup_8a51292773acdfdd8472cce82da109e3.setContent(html_58fcb009c8a53a6223c59cec208e5729);\n",
       "            \n",
       "        \n",
       "\n",
       "        marker_1c19af3e306bbf188b42f25c2f42f9a8.bindPopup(popup_8a51292773acdfdd8472cce82da109e3)\n",
       "        ;\n",
       "\n",
       "        \n",
       "    \n",
       "    \n",
       "            var marker_c0b5f64efdca1038f72a43faaa1ffb6b = L.marker(\n",
       "                [6.5246, 3.3794],\n",
       "                {}\n",
       "            ).addTo(map_bad6afd0eb17cb427c6519312d156cf3);\n",
       "        \n",
       "    \n",
       "        var popup_f0aae087d76bbb8407d574a6500842e7 = L.popup({&quot;maxWidth&quot;: &quot;100%&quot;});\n",
       "\n",
       "        \n",
       "            \n",
       "                var html_f656106b1f5d43f0c0e95e993ffcd237 = $(`&lt;div id=&quot;html_f656106b1f5d43f0c0e95e993ffcd237&quot; style=&quot;width: 100.0%; height: 100.0%;&quot;&gt;Polling Unit: PU3 APC Outlier Score: 6.666666666666671 LP Outlier Score: 10.0 PDP Outlier Score: 6.666666666666686 NNPP Outlier Score: 3.3333333333333357&lt;/div&gt;`)[0];\n",
       "                popup_f0aae087d76bbb8407d574a6500842e7.setContent(html_f656106b1f5d43f0c0e95e993ffcd237);\n",
       "            \n",
       "        \n",
       "\n",
       "        marker_c0b5f64efdca1038f72a43faaa1ffb6b.bindPopup(popup_f0aae087d76bbb8407d574a6500842e7)\n",
       "        ;\n",
       "\n",
       "        \n",
       "    \n",
       "    \n",
       "            var marker_fbe1540d23717ba8f56def42df546369 = L.marker(\n",
       "                [6.5247, 3.3795],\n",
       "                {}\n",
       "            ).addTo(map_bad6afd0eb17cb427c6519312d156cf3);\n",
       "        \n",
       "    \n",
       "        var popup_85e4189adf444fc79327469b4de75b07 = L.popup({&quot;maxWidth&quot;: &quot;100%&quot;});\n",
       "\n",
       "        \n",
       "            \n",
       "                var html_44c9e65ff6df7012d24fcf8b29bc9f72 = $(`&lt;div id=&quot;html_44c9e65ff6df7012d24fcf8b29bc9f72&quot; style=&quot;width: 100.0%; height: 100.0%;&quot;&gt;Polling Unit: PU4 APC Outlier Score: 6.666666666666671 LP Outlier Score: 23.333333333333343 PDP Outlier Score: 20.0 NNPP Outlier Score: 10.0&lt;/div&gt;`)[0];\n",
       "                popup_85e4189adf444fc79327469b4de75b07.setContent(html_44c9e65ff6df7012d24fcf8b29bc9f72);\n",
       "            \n",
       "        \n",
       "\n",
       "        marker_fbe1540d23717ba8f56def42df546369.bindPopup(popup_85e4189adf444fc79327469b4de75b07)\n",
       "        ;\n",
       "\n",
       "        \n",
       "    \n",
       "    \n",
       "            tile_layer_9fe9935139669055abc1019d8386f119.addTo(map_bad6afd0eb17cb427c6519312d156cf3);\n",
       "        \n",
       "&lt;/script&gt;\n",
       "&lt;/html&gt;\" style=\"position:absolute;width:100%;height:100%;left:0;top:0;border:none !important;\" allowfullscreen webkitallowfullscreen mozallowfullscreen></iframe></div></div>"
      ],
      "text/plain": [
       "<folium.folium.Map at 0x15985434d50>"
      ]
     },
     "execution_count": 125,
     "metadata": {},
     "output_type": "execute_result"
    },
    {
     "data": {
      "image/png": "[encoded data removed]",
      "text/plain": [
       "<Figure size 640x480 with 1 Axes>"
      ]
     },
     "metadata": {},
     "output_type": "display_data"
    }
   ],
   "source": [
    "import folium\n",
    "\n",
    "# Create a folium map to visualize polling units\n",
    "m = folium.Map(location=[df['latitude'].mean(), df['longitude'].mean()], zoom_start=12)\n",
    "\n",
    "\n",
    "# Add markers for each polling unit\n",
    "for index, row in df.iterrows():\n",
    "    folium.Marker(\n",
    "        location=[row['latitude'], row['longitude']],\n",
    "        popup=f\"Polling Unit: {row['PU-Name']}\\nAPC Outlier Score: {row['APC_outlier_score']}\\nLP Outlier Score: {row['LP_outlier_score']}\\nPDP Outlier Score: {row['PDP_outlier_score']}\\nNNPP Outlier Score: {row['NNPP_outlier_score']}\"\n",
    "    ).add_to(m)\n",
    "plt.title('Folium map visualizing polling units in Delta State')\n",
    "# Save the map as an HTML file\n",
    "m.save('polling_units_map.html')\n",
    "\n",
    "# Display the map (this will work in Jupyter notebooks)\n",
    "m"
   ]
  },
  {
   "cell_type": "code",
   "execution_count": 118,
   "id": "db11b5a5",
   "metadata": {},
   "outputs": [],
   "source": [
    "# Save the map as an HTML file\n",
    "m.save('polling_units_map.html')"
   ]
  },
  {
   "cell_type": "markdown",
   "id": "caccc1f2",
   "metadata": {},
   "source": [
    "# Sort the dataset by outlier scores"
   ]
  },
  {
   "cell_type": "code",
   "execution_count": 81,
   "id": "0d638e90",
   "metadata": {},
   "outputs": [
    {
     "name": "stdout",
     "output_type": "stream",
     "text": [
      "                                      PU-Name party  outlier_score\n",
      "19  ATUMA IGA PRIMARY SCHOOL - OGBE-ANI/AJAJI  NNPP       2.899692\n",
      "7   ATUMA IGA PRIMARY SCHOOL - OGBE-ANI/AJAJI  NNPP       2.899692\n",
      "15  ATUMA IGA PRIMARY SCHOOL - OGBE-ANI/AJAJI  NNPP       2.899692\n",
      "11  ATUMA IGA PRIMARY SCHOOL - OGBE-ANI/AJAJI  NNPP       2.899692\n",
      "23  ATUMA IGA PRIMARY SCHOOL - OGBE-ANI/AJAJI  NNPP       2.899692\n"
     ]
    }
   ],
   "source": [
    "sorted_outliers = outlier_scores.sort_values(by='outlier_score', ascending=False)\n",
    "sorted_outliers.to_csv('sorted_outlier_scores.csv', index=False)\n",
    "print(sorted_outliers.head())"
   ]
  },
  {
   "cell_type": "markdown",
   "id": "34a5f1e0",
   "metadata": {},
   "source": [
    "# Identify top 3 outliers for each party"
   ]
  },
  {
   "cell_type": "code",
   "execution_count": 84,
   "id": "5905c596",
   "metadata": {},
   "outputs": [
    {
     "name": "stdout",
     "output_type": "stream",
     "text": [
      "                                               PU-Name party  outlier_score\n",
      "19           ATUMA IGA PRIMARY SCHOOL - OGBE-ANI/AJAJI  NNPP       2.899692\n",
      "7            ATUMA IGA PRIMARY SCHOOL - OGBE-ANI/AJAJI  NNPP       2.899692\n",
      "15           ATUMA IGA PRIMARY SCHOOL - OGBE-ANI/AJAJI  NNPP       2.899692\n",
      "153  AGBOGIDI PRIMARY SCHOOL-OGBE ONISHE/OGBE ANI/O...    LP       2.686157\n",
      "149  AGBOGIDI PRIMARY SCHOOL-OGBE ONISHE/OGBE ANI/O...    LP       2.686157\n",
      "165  AGBOGIDI PRIMARY SCHOOL-OGBE ONISHE/OGBE ANI/O...    LP       2.686157\n",
      "788          EZI-EKE OGBE-OKODE UMU-EKEKE (OPEN SPACE)   APC       2.571024\n",
      "812          EZI-EKE OGBE-OKODE UMU-EKEKE (OPEN SPACE)   APC       2.571024\n",
      "808          EZI-EKE OGBE-OKODE UMU-EKEKE (OPEN SPACE)   APC       2.571024\n",
      "14           ATUMA IGA PRIMARY SCHOOL - OGBE-ANI/AJAJI   PDP       2.400337\n",
      "6            ATUMA IGA PRIMARY SCHOOL - OGBE-ANI/AJAJI   PDP       2.400337\n",
      "10           ATUMA IGA PRIMARY SCHOOL - OGBE-ANI/AJAJI   PDP       2.400337\n"
     ]
    }
   ],
   "source": [
    "top_outliers = sorted_outliers.groupby('party').head(3)\n",
    "print(top_outliers)"
   ]
  },
  {
   "cell_type": "code",
   "execution_count": 85,
   "id": "5e337b70",
   "metadata": {},
   "outputs": [
    {
     "name": "stdout",
     "output_type": "stream",
     "text": [
      "Unit ATUMA IGA PRIMARY SCHOOL - OGBE-ANI/AJAJI is an outlier for NNPP with an outlier score of 2.8996918043796436.\n",
      "Unit ATUMA IGA PRIMARY SCHOOL - OGBE-ANI/AJAJI is an outlier for NNPP with an outlier score of 2.8996918043796436.\n",
      "Unit ATUMA IGA PRIMARY SCHOOL - OGBE-ANI/AJAJI is an outlier for NNPP with an outlier score of 2.8996918043796436.\n",
      "Unit AGBOGIDI PRIMARY SCHOOL-OGBE ONISHE/OGBE ANI/OGBE IYASE is an outlier for LP with an outlier score of 2.6861574456825354.\n",
      "Unit AGBOGIDI PRIMARY SCHOOL-OGBE ONISHE/OGBE ANI/OGBE IYASE is an outlier for LP with an outlier score of 2.6861574456825354.\n",
      "Unit AGBOGIDI PRIMARY SCHOOL-OGBE ONISHE/OGBE ANI/OGBE IYASE is an outlier for LP with an outlier score of 2.6861574456825354.\n",
      "Unit EZI-EKE OGBE-OKODE UMU-EKEKE (OPEN SPACE) is an outlier for APC with an outlier score of 2.571023850942569.\n",
      "Unit EZI-EKE OGBE-OKODE UMU-EKEKE (OPEN SPACE) is an outlier for APC with an outlier score of 2.571023850942569.\n",
      "Unit EZI-EKE OGBE-OKODE UMU-EKEKE (OPEN SPACE) is an outlier for APC with an outlier score of 2.571023850942569.\n",
      "Unit ATUMA IGA PRIMARY SCHOOL - OGBE-ANI/AJAJI is an outlier for PDP with an outlier score of 2.400336740568674.\n",
      "Unit ATUMA IGA PRIMARY SCHOOL - OGBE-ANI/AJAJI is an outlier for PDP with an outlier score of 2.400336740568674.\n",
      "Unit ATUMA IGA PRIMARY SCHOOL - OGBE-ANI/AJAJI is an outlier for PDP with an outlier score of 2.400336740568674.\n"
     ]
    }
   ],
   "source": [
    "# Explain why they are outliers\n",
    "for index, row in top_outliers.iterrows():\n",
    "    identifier = row[id_column]\n",
    "    party = row['party']\n",
    "    score = row['outlier_score']\n",
    "    print(f\"Unit {identifier} is an outlier for {party} with an outlier score of {score}.\")"
   ]
  },
  {
   "cell_type": "code",
   "execution_count": 87,
   "id": "4210ca9b",
   "metadata": {},
   "outputs": [],
   "source": [
    "# Save sorted outlier scores to a CSV file\n",
    "sorted_outliers.to_csv('sorted_outlier_scores.csv', index=False)"
   ]
  },
  {
   "cell_type": "code",
   "execution_count": 88,
   "id": "11aea7d3",
   "metadata": {},
   "outputs": [],
   "source": [
    "# Identify top 3 outliers for each party\n",
    "top_outliers = sorted_outliers.groupby('party').head(3)\n",
    "\n",
    "# Save top outliers to a CSV file\n",
    "top_outliers.to_csv('top_outliers.csv', index=False)"
   ]
  },
  {
   "cell_type": "code",
   "execution_count": 89,
   "id": "303306fe",
   "metadata": {},
   "outputs": [],
   "source": [
    "# Save the full dataset with calculated columns\n",
    "df.to_csv('full_dataset_with_calculations.csv', index=False)"
   ]
  },
  {
   "cell_type": "code",
   "execution_count": 90,
   "id": "5ca45caa",
   "metadata": {},
   "outputs": [
    {
     "name": "stdout",
     "output_type": "stream",
     "text": [
      "Sorted outlier scores saved to 'sorted_outlier_scores.csv'\n",
      "Top 3 outliers for each party saved to 'top_outliers.csv'\n",
      "Full dataset with calculations saved to 'full_dataset_with_calculations.csv'\n"
     ]
    }
   ],
   "source": [
    "# Print statements to confirm saving\n",
    "print(\"Sorted outlier scores saved to 'sorted_outlier_scores.csv'\")\n",
    "print(\"Top 3 outliers for each party saved to 'top_outliers.csv'\")\n",
    "print(\"Full dataset with calculations saved to 'full_dataset_with_calculations.csv'\")"
   ]
  },
  {
   "cell_type": "code",
   "execution_count": null,
   "id": "fb7fb73a",
   "metadata": {},
   "outputs": [],
   "source": []
  }
 ],
 "metadata": {
  "kernelspec": {
   "display_name": "Python 3 (ipykernel)",
   "language": "python",
   "name": "python3"
  },
  "language_info": {
   "codemirror_mode": {
    "name": "ipython",
    "version": 3
   },
   "file_extension": ".py",
   "mimetype": "text/x-python",
   "name": "python",
   "nbconvert_exporter": "python",
   "pygments_lexer": "ipython3",
   "version": "3.9.13"
  }
 },
 "nbformat": 4,
 "nbformat_minor": 5
}
