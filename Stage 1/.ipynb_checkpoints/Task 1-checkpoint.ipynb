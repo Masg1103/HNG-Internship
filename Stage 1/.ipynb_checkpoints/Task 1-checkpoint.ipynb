{
 "cells": [
  {
   "cell_type": "code",
   "execution_count": 1,
   "id": "4f3c7ce4",
   "metadata": {},
   "outputs": [
    {
     "name": "stdout",
     "output_type": "stream",
     "text": [
      "Requirement already satisfied: pandas in c:\\users\\hp\\anaconda3\\lib\\site-packages (1.5.3)\n",
      "Collecting geopandas\n",
      "  Downloading geopandas-1.0.0-py3-none-any.whl (323 kB)\n",
      "     ------------------------------------- 323.4/323.4 kB 71.3 kB/s eta 0:00:00\n",
      "Collecting shapely\n",
      "  Downloading shapely-2.0.4-cp310-cp310-win_amd64.whl (1.4 MB)\n",
      "     ---------------------------------------- 1.4/1.4 MB 31.7 kB/s eta 0:00:00\n",
      "Requirement already satisfied: scikit-learn in c:\\users\\hp\\anaconda3\\lib\\site-packages (1.2.1)\n",
      "Requirement already satisfied: pytz>=2020.1 in c:\\users\\hp\\anaconda3\\lib\\site-packages (from pandas) (2022.7)\n",
      "Requirement already satisfied: python-dateutil>=2.8.1 in c:\\users\\hp\\appdata\\roaming\\python\\python310\\site-packages (from pandas) (2.8.2)\n",
      "Requirement already satisfied: numpy>=1.21.0 in c:\\users\\hp\\anaconda3\\lib\\site-packages (from pandas) (1.23.5)\n",
      "Collecting pyproj>=3.3.0\n",
      "  Downloading pyproj-3.6.1-cp310-cp310-win_amd64.whl (6.1 MB)\n",
      "     ---------------------------              4.1/6.1 MB 35.7 kB/s eta 0:00:55\n",
      "Note: you may need to restart the kernel to use updated packages.\n"
     ]
    },
    {
     "name": "stderr",
     "output_type": "stream",
     "text": [
      "ERROR: Exception:\n",
      "Traceback (most recent call last):\n",
      "  File \"C:\\Users\\HP\\anaconda3\\lib\\site-packages\\pip\\_vendor\\urllib3\\response.py\", line 437, in _error_catcher\n",
      "    yield\n",
      "  File \"C:\\Users\\HP\\anaconda3\\lib\\site-packages\\pip\\_vendor\\urllib3\\response.py\", line 560, in read\n",
      "    data = self._fp_read(amt) if not fp_closed else b\"\"\n",
      "  File \"C:\\Users\\HP\\anaconda3\\lib\\site-packages\\pip\\_vendor\\urllib3\\response.py\", line 526, in _fp_read\n",
      "    return self._fp.read(amt) if amt is not None else self._fp.read()\n",
      "  File \"C:\\Users\\HP\\anaconda3\\lib\\site-packages\\pip\\_vendor\\cachecontrol\\filewrapper.py\", line 90, in read\n",
      "    data = self.__fp.read(amt)\n",
      "  File \"C:\\Users\\HP\\anaconda3\\lib\\http\\client.py\", line 465, in read\n",
      "    s = self.fp.read(amt)\n",
      "  File \"C:\\Users\\HP\\anaconda3\\lib\\socket.py\", line 705, in readinto\n",
      "    return self._sock.recv_into(b)\n",
      "  File \"C:\\Users\\HP\\anaconda3\\lib\\ssl.py\", line 1274, in recv_into\n",
      "    return self.read(nbytes, buffer)\n",
      "  File \"C:\\Users\\HP\\anaconda3\\lib\\ssl.py\", line 1130, in read\n",
      "    return self._sslobj.read(len, buffer)\n",
      "TimeoutError: The read operation timed out\n",
      "\n",
      "During handling of the above exception, another exception occurred:\n",
      "\n",
      "Traceback (most recent call last):\n",
      "  File \"C:\\Users\\HP\\anaconda3\\lib\\site-packages\\pip\\_internal\\cli\\base_command.py\", line 160, in exc_logging_wrapper\n",
      "    status = run_func(*args)\n",
      "  File \"C:\\Users\\HP\\anaconda3\\lib\\site-packages\\pip\\_internal\\cli\\req_command.py\", line 247, in wrapper\n",
      "    return func(self, options, args)\n",
      "  File \"C:\\Users\\HP\\anaconda3\\lib\\site-packages\\pip\\_internal\\commands\\install.py\", line 400, in run\n",
      "    requirement_set = resolver.resolve(\n",
      "  File \"C:\\Users\\HP\\anaconda3\\lib\\site-packages\\pip\\_internal\\resolution\\resolvelib\\resolver.py\", line 92, in resolve\n",
      "    result = self._result = resolver.resolve(\n",
      "  File \"C:\\Users\\HP\\anaconda3\\lib\\site-packages\\pip\\_vendor\\resolvelib\\resolvers.py\", line 481, in resolve\n",
      "    state = resolution.resolve(requirements, max_rounds=max_rounds)\n",
      "  File \"C:\\Users\\HP\\anaconda3\\lib\\site-packages\\pip\\_vendor\\resolvelib\\resolvers.py\", line 373, in resolve\n",
      "    failure_causes = self._attempt_to_pin_criterion(name)\n",
      "  File \"C:\\Users\\HP\\anaconda3\\lib\\site-packages\\pip\\_vendor\\resolvelib\\resolvers.py\", line 213, in _attempt_to_pin_criterion\n",
      "    criteria = self._get_updated_criteria(candidate)\n",
      "  File \"C:\\Users\\HP\\anaconda3\\lib\\site-packages\\pip\\_vendor\\resolvelib\\resolvers.py\", line 204, in _get_updated_criteria\n",
      "    self._add_to_criteria(criteria, requirement, parent=candidate)\n",
      "  File \"C:\\Users\\HP\\anaconda3\\lib\\site-packages\\pip\\_vendor\\resolvelib\\resolvers.py\", line 172, in _add_to_criteria\n",
      "    if not criterion.candidates:\n",
      "  File \"C:\\Users\\HP\\anaconda3\\lib\\site-packages\\pip\\_vendor\\resolvelib\\structs.py\", line 151, in __bool__\n",
      "    return bool(self._sequence)\n",
      "  File \"C:\\Users\\HP\\anaconda3\\lib\\site-packages\\pip\\_internal\\resolution\\resolvelib\\found_candidates.py\", line 155, in __bool__\n",
      "    return any(self)\n",
      "  File \"C:\\Users\\HP\\anaconda3\\lib\\site-packages\\pip\\_internal\\resolution\\resolvelib\\found_candidates.py\", line 143, in <genexpr>\n",
      "    return (c for c in iterator if id(c) not in self._incompatible_ids)\n",
      "  File \"C:\\Users\\HP\\anaconda3\\lib\\site-packages\\pip\\_internal\\resolution\\resolvelib\\found_candidates.py\", line 47, in _iter_built\n",
      "    candidate = func()\n",
      "  File \"C:\\Users\\HP\\anaconda3\\lib\\site-packages\\pip\\_internal\\resolution\\resolvelib\\factory.py\", line 206, in _make_candidate_from_link\n",
      "    self._link_candidate_cache[link] = LinkCandidate(\n",
      "  File \"C:\\Users\\HP\\anaconda3\\lib\\site-packages\\pip\\_internal\\resolution\\resolvelib\\candidates.py\", line 297, in __init__\n",
      "    super().__init__(\n",
      "  File \"C:\\Users\\HP\\anaconda3\\lib\\site-packages\\pip\\_internal\\resolution\\resolvelib\\candidates.py\", line 162, in __init__\n",
      "    self.dist = self._prepare()\n",
      "  File \"C:\\Users\\HP\\anaconda3\\lib\\site-packages\\pip\\_internal\\resolution\\resolvelib\\candidates.py\", line 231, in _prepare\n",
      "    dist = self._prepare_distribution()\n",
      "  File \"C:\\Users\\HP\\anaconda3\\lib\\site-packages\\pip\\_internal\\resolution\\resolvelib\\candidates.py\", line 308, in _prepare_distribution\n",
      "    return preparer.prepare_linked_requirement(self._ireq, parallel_builds=True)\n",
      "  File \"C:\\Users\\HP\\anaconda3\\lib\\site-packages\\pip\\_internal\\operations\\prepare.py\", line 491, in prepare_linked_requirement\n",
      "    return self._prepare_linked_requirement(req, parallel_builds)\n",
      "  File \"C:\\Users\\HP\\anaconda3\\lib\\site-packages\\pip\\_internal\\operations\\prepare.py\", line 536, in _prepare_linked_requirement\n",
      "    local_file = unpack_url(\n",
      "  File \"C:\\Users\\HP\\anaconda3\\lib\\site-packages\\pip\\_internal\\operations\\prepare.py\", line 166, in unpack_url\n",
      "    file = get_http_url(\n",
      "  File \"C:\\Users\\HP\\anaconda3\\lib\\site-packages\\pip\\_internal\\operations\\prepare.py\", line 107, in get_http_url\n",
      "    from_path, content_type = download(link, temp_dir.path)\n",
      "  File \"C:\\Users\\HP\\anaconda3\\lib\\site-packages\\pip\\_internal\\network\\download.py\", line 147, in __call__\n",
      "    for chunk in chunks:\n",
      "  File \"C:\\Users\\HP\\anaconda3\\lib\\site-packages\\pip\\_internal\\cli\\progress_bars.py\", line 53, in _rich_progress_bar\n",
      "    for chunk in iterable:\n",
      "  File \"C:\\Users\\HP\\anaconda3\\lib\\site-packages\\pip\\_internal\\network\\utils.py\", line 63, in response_chunks\n",
      "    for chunk in response.raw.stream(\n",
      "  File \"C:\\Users\\HP\\anaconda3\\lib\\site-packages\\pip\\_vendor\\urllib3\\response.py\", line 621, in stream\n",
      "    data = self.read(amt=amt, decode_content=decode_content)\n",
      "  File \"C:\\Users\\HP\\anaconda3\\lib\\site-packages\\pip\\_vendor\\urllib3\\response.py\", line 559, in read\n",
      "    with self._error_catcher():\n",
      "  File \"C:\\Users\\HP\\anaconda3\\lib\\contextlib.py\", line 153, in __exit__\n",
      "    self.gen.throw(typ, value, traceback)\n",
      "  File \"C:\\Users\\HP\\anaconda3\\lib\\site-packages\\pip\\_vendor\\urllib3\\response.py\", line 442, in _error_catcher\n",
      "    raise ReadTimeoutError(self._pool, None, \"Read timed out.\")\n",
      "pip._vendor.urllib3.exceptions.ReadTimeoutError: HTTPSConnectionPool(host='files.pythonhosted.org', port=443): Read timed out.\n"
     ]
    }
   ],
   "source": [
    "#pip install pandas geopandas shapely scikit-learn"
   ]
  },
  {
   "cell_type": "code",
   "execution_count": 3,
   "id": "87b59c0b",
   "metadata": {},
   "outputs": [
    {
     "name": "stdout",
     "output_type": "stream",
     "text": [
      "Requirement already satisfied: geopy in c:\\users\\hp\\anaconda3\\lib\\site-packages (2.4.1)\n",
      "Requirement already satisfied: geographiclib<3,>=1.52 in c:\\users\\hp\\anaconda3\\lib\\site-packages (from geopy) (2.0)\n",
      "Collecting folium\n",
      "  Downloading folium-0.17.0-py2.py3-none-any.whl (108 kB)\n",
      "     -------------------------------------- 108.4/108.4 kB 5.1 kB/s eta 0:00:00\n",
      "Requirement already satisfied: numpy in c:\\users\\hp\\anaconda3\\lib\\site-packages (from folium) (1.23.5)\n",
      "Collecting xyzservices\n",
      "  Downloading xyzservices-2024.6.0-py3-none-any.whl (83 kB)\n",
      "     --------------------------------------- 83.9/83.9 kB 39.6 kB/s eta 0:00:00\n",
      "Collecting branca>=0.6.0\n",
      "  Downloading branca-0.7.2-py3-none-any.whl (25 kB)\n",
      "Requirement already satisfied: jinja2>=2.9 in c:\\users\\hp\\anaconda3\\lib\\site-packages (from folium) (3.1.2)\n",
      "Requirement already satisfied: requests in c:\\users\\hp\\anaconda3\\lib\\site-packages (from folium) (2.28.1)\n",
      "Requirement already satisfied: MarkupSafe>=2.0 in c:\\users\\hp\\anaconda3\\lib\\site-packages (from jinja2>=2.9->folium) (2.1.1)\n",
      "Requirement already satisfied: urllib3<1.27,>=1.21.1 in c:\\users\\hp\\anaconda3\\lib\\site-packages (from requests->folium) (1.26.14)\n",
      "Requirement already satisfied: charset-normalizer<3,>=2 in c:\\users\\hp\\anaconda3\\lib\\site-packages (from requests->folium) (2.0.4)\n",
      "Requirement already satisfied: idna<4,>=2.5 in c:\\users\\hp\\anaconda3\\lib\\site-packages (from requests->folium) (3.4)\n",
      "Requirement already satisfied: certifi>=2017.4.17 in c:\\users\\hp\\anaconda3\\lib\\site-packages (from requests->folium) (2022.12.7)\n",
      "Installing collected packages: xyzservices, branca, folium\n",
      "Successfully installed branca-0.7.2 folium-0.17.0 xyzservices-2024.6.0\n"
     ]
    }
   ],
   "source": [
    "!pip install geopy\n",
    "!pip install folium"
   ]
  },
  {
   "cell_type": "code",
   "execution_count": 6,
   "id": "72875a6f",
   "metadata": {},
   "outputs": [],
   "source": [
    "import pandas as pd\n",
    "import geopy as gpd\n",
    "#from shapely.geometry import Point\n",
    "from sklearn.neighbors import BallTree\n",
    "import numpy as np\n",
    "\n",
    "# Load the dataset\n",
    "file_path = 'Task 1.xlsx'\n",
    "data = pd.read_excel(file_path)\n",
    "\n",
    "# Remove rows with NaN values in latitude and longitude\n",
    "data_clean = data.dropna(subset=['Latitude', 'Longitude'])\n"
   ]
  },
  {
   "cell_type": "code",
   "execution_count": 8,
   "id": "985574a4",
   "metadata": {},
   "outputs": [
    {
     "name": "stdout",
     "output_type": "stream",
     "text": [
      "Latitude     0\n",
      "Longitude    0\n",
      "dtype: int64\n"
     ]
    }
   ],
   "source": [
    "print(data_clean[['Latitude', 'Longitude']].isnull().sum())"
   ]
  },
  {
   "cell_type": "code",
   "execution_count": 9,
   "id": "dc55d49f",
   "metadata": {},
   "outputs": [
    {
     "name": "stderr",
     "output_type": "stream",
     "text": [
      "C:\\Users\\HP\\AppData\\Local\\Temp\\ipykernel_18856\\292805597.py:1: SettingWithCopyWarning: \n",
      "A value is trying to be set on a copy of a slice from a DataFrame.\n",
      "Try using .loc[row_indexer,col_indexer] = value instead\n",
      "\n",
      "See the caveats in the documentation: https://pandas.pydata.org/pandas-docs/stable/user_guide/indexing.html#returning-a-view-versus-a-copy\n",
      "  data_clean['latitude_radians'] = np.radians(data_clean['Latitude'])\n",
      "C:\\Users\\HP\\AppData\\Local\\Temp\\ipykernel_18856\\292805597.py:2: SettingWithCopyWarning: \n",
      "A value is trying to be set on a copy of a slice from a DataFrame.\n",
      "Try using .loc[row_indexer,col_indexer] = value instead\n",
      "\n",
      "See the caveats in the documentation: https://pandas.pydata.org/pandas-docs/stable/user_guide/indexing.html#returning-a-view-versus-a-copy\n",
      "  data_clean['longitude_radians'] = np.radians(data_clean['Longitude'])\n"
     ]
    }
   ],
   "source": [
    "data_clean['latitude_radians'] = np.radians(data_clean['Latitude'])\n",
    "data_clean['longitude_radians'] = np.radians(data_clean['Longitude'])"
   ]
  },
  {
   "cell_type": "code",
   "execution_count": 11,
   "id": "5a93f9ec",
   "metadata": {},
   "outputs": [],
   "source": [
    "from sklearn.metrics.pairwise import haversine_distances"
   ]
  },
  {
   "cell_type": "code",
   "execution_count": 13,
   "id": "a9f186d2",
   "metadata": {},
   "outputs": [],
   "source": [
    "coords = data_clean[['latitude_radians', 'longitude_radians']].values\n",
    "if coords.size == 0:\n",
    "    raise ValueError(\"Coordinates array is empty. Check your data and merging process.\")\n",
    "\n",
    "dist_matrix = haversine_distances(coords) * 6371  # Convert to kilometers\n",
    "\n",
    "# Define a radius (1 km)\n",
    "radius = 1\n",
    "\n",
    "# Identify neighbors within the radius\n",
    "neighbors = {i: np.where(dist_matrix[i] <= radius)[0] for i in range(len(data_clean))}"
   ]
  },
  {
   "cell_type": "code",
   "execution_count": 17,
   "id": "ce050c83",
   "metadata": {},
   "outputs": [],
   "source": [
    "from scipy.stats import zscore"
   ]
  },
  {
   "cell_type": "code",
   "execution_count": 18,
   "id": "be8345cc",
   "metadata": {},
   "outputs": [
    {
     "name": "stdout",
     "output_type": "stream",
     "text": [
      "               PU-Name party  outlier_score\n",
      "0  ST. CHARLE'S SCHOOL   APC      -0.543386\n",
      "1  ST. CHARLE'S SCHOOL    LP      -1.488709\n",
      "2  ST. CHARLE'S SCHOOL   PDP      -0.325378\n",
      "3  ST. CHARLE'S SCHOOL  NNPP      -0.509736\n",
      "4       AMANKWU SQUARE   APC       0.802052\n"
     ]
    }
   ],
   "source": [
    "def calculate_outlier_scores(neighbors, data_clean, id_column):\n",
    "    outlier_scores = []\n",
    "    for i, neighbor_indices in neighbors.items():\n",
    "        if len(neighbor_indices) > 1:\n",
    "            for party in ['APC', 'LP', 'PDP', 'NNPP']:\n",
    "                votes = data_clean.iloc[neighbor_indices][party].values\n",
    "                z_scores = zscore(votes)\n",
    "                outlier_scores.append({\n",
    "                    id_column: data_clean.iloc[i][id_column],\n",
    "                    'party': party,\n",
    "                    'outlier_score': z_scores[np.where(neighbor_indices == i)[0][0]]\n",
    "                })\n",
    "    return pd.DataFrame(outlier_scores)\n",
    "\n",
    "# Determine the appropriate identifier column\n",
    "id_column = 'unit_id' if 'unit_id' in data_clean.columns else data_clean.columns[4]\n",
    "\n",
    "# Calculate outlier scores\n",
    "outlier_scores = calculate_outlier_scores(neighbors, data_clean, id_column)\n",
    "print(outlier_scores.head())"
   ]
  },
  {
   "cell_type": "code",
   "execution_count": 20,
   "id": "442c1b33",
   "metadata": {},
   "outputs": [],
   "source": [
    "from geopy.distance import geodesic"
   ]
  },
  {
   "cell_type": "code",
   "execution_count": 21,
   "id": "4e763650",
   "metadata": {},
   "outputs": [
    {
     "name": "stdout",
     "output_type": "stream",
     "text": [
      "  PU-Name  latitude  longitude  APC   LP  PDP  NNPP  APC_outlier_score  \\\n",
      "0     PU1    6.5244     3.3792  100  200  300    50          33.333333   \n",
      "1     PU2    6.5245     3.3793  150  180  280    60          33.333333   \n",
      "2     PU3    6.5246     3.3794  120  210  290    55           6.666667   \n",
      "3     PU4    6.5247     3.3795  130  220  310    65           6.666667   \n",
      "\n",
      "   LP_outlier_score  PDP_outlier_score  NNPP_outlier_score  \n",
      "0          3.333333           6.666667           10.000000  \n",
      "1         30.000000          20.000000            3.333333  \n",
      "2         10.000000           6.666667            3.333333  \n",
      "3         23.333333          20.000000           10.000000  \n"
     ]
    }
   ],
   "source": [
    "# Define a function to calculate the outlier score\n",
    "def calculate_outlier_score(votes, neighbor_votes):\n",
    "    return abs(votes - np.mean(neighbor_votes))\n",
    "\n",
    "# Sample DataFrame\n",
    "data = {\n",
    "    'PU-Name': ['PU1', 'PU2', 'PU3', 'PU4'],\n",
    "    'latitude': [6.5244, 6.5245, 6.5246, 6.5247],\n",
    "    'longitude': [3.3792, 3.3793, 3.3794, 3.3795],\n",
    "    'APC': [100, 150, 120, 130],\n",
    "    'LP': [200, 180, 210, 220],\n",
    "    'PDP': [300, 280, 290, 310],\n",
    "    'NNPP': [50, 60, 55, 65]\n",
    "}\n",
    "data_cleanx = pd.DataFrame(data)\n",
    "\n",
    "# Define a radius (in km)\n",
    "radius = 1\n",
    "\n",
    "# Initialize outlier score columns\n",
    "data_cleanx['APC_outlier_score'] = 0.0\n",
    "data_cleanx['LP_outlier_score'] = 0.0\n",
    "data_cleanx['PDP_outlier_score'] = 0.0\n",
    "data_cleanx['NNPP_outlier_score'] = 0.0\n",
    "\n",
    "# Calculate outlier scores for each polling unit\n",
    "for i, row in data_cleanx.iterrows():\n",
    "    # Get the coordinates of the current polling unit\n",
    "    current_coords = (row['latitude'], row['longitude'])\n",
    "    \n",
    "    # Find neighboring polling units\n",
    "    neighbors = []\n",
    "    for j, neighbor_row in data_cleanx.iterrows():\n",
    "        if i != j:\n",
    "            neighbor_coords = (neighbor_row['latitude'], neighbor_row['longitude'])\n",
    "            distance = geodesic(current_coords, neighbor_coords).kilometers\n",
    "            if distance <= radius:\n",
    "                neighbors.append(neighbor_row)\n",
    "    \n",
    "    if neighbors:\n",
    "        # Calculate outlier scores for each party\n",
    "        neighbors_df = pd.DataFrame(neighbors)\n",
    "        data_cleanx.at[i, 'APC_outlier_score'] = calculate_outlier_score(row['APC'], neighbors_df['APC'])\n",
    "        data_cleanx.at[i, 'LP_outlier_score'] = calculate_outlier_score(row['LP'], neighbors_df['LP'])\n",
    "        data_cleanx.at[i, 'PDP_outlier_score'] = calculate_outlier_score(row['PDP'], neighbors_df['PDP'])\n",
    "        data_cleanx.at[i, 'NNPP_outlier_score'] = calculate_outlier_score(row['NNPP'], neighbors_df['NNPP'])\n",
    "\n",
    "print(data_cleanx)"
   ]
  },
  {
   "cell_type": "code",
   "execution_count": 22,
   "id": "dea4594e",
   "metadata": {},
   "outputs": [
    {
     "name": "stdout",
     "output_type": "stream",
     "text": [
      "Cleaned dataset saved to motade_anambra_election_data_with_outlier_scores.csv\n"
     ]
    }
   ],
   "source": [
    "cleaned_dataset = 'motade_anambra_election_data_with_outlier_scores.csv'\n",
    "data_cleanx.to_csv(cleaned_dataset, index=False)\n",
    "\n",
    "print(f\"Cleaned dataset saved to {cleaned_dataset}\")"
   ]
  },
  {
   "cell_type": "code",
   "execution_count": 24,
   "id": "d4ba84f8",
   "metadata": {},
   "outputs": [],
   "source": [
    "import matplotlib.pyplot as plt"
   ]
  },
  {
   "cell_type": "code",
   "execution_count": 27,
   "id": "990045fd",
   "metadata": {},
   "outputs": [
    {
     "data": {
      "image/png": "[encoded data removed]",
      "text/plain": [
       "<Figure size 1000x600 with 1 Axes>"
      ]
     },
     "metadata": {},
     "output_type": "display_data"
    }
   ],
   "source": [
    "# Plotting the bar chart for PDP outlier scores\n",
    "plt.figure(figsize=(10, 6))\n",
    "plt.bar(data_cleanx['PU-Name'], data_cleanx['PDP_outlier_score'])\n",
    "plt.xticks(rotation=90)\n",
    "plt.xlabel('Polling Unit')\n",
    "plt.ylabel('Outlier Score')\n",
    "plt.title('Outlier Scores for PDP')\n",
    "plt.tight_layout()\n",
    "plt.show()\n"
   ]
  },
  {
   "cell_type": "code",
   "execution_count": 28,
   "id": "1619a870",
   "metadata": {},
   "outputs": [
    {
     "data": {
      "image/png": "[encoded data removed]",
      "text/plain": [
       "<Figure size 1000x600 with 1 Axes>"
      ]
     },
     "metadata": {},
     "output_type": "display_data"
    }
   ],
   "source": [
    "# Plotting the bar chart for PDP outlier scores\n",
    "plt.figure(figsize=(10, 6))\n",
    "plt.bar(data_cleanx['PU-Name'], data_cleanx['LP_outlier_score'])\n",
    "plt.xticks(rotation=90)\n",
    "plt.xlabel('Polling Unit')\n",
    "plt.ylabel('Outlier Score')\n",
    "plt.title('Outlier Scores for LP')\n",
    "plt.tight_layout()\n",
    "plt.show()\n"
   ]
  },
  {
   "cell_type": "code",
   "execution_count": 29,
   "id": "10234902",
   "metadata": {},
   "outputs": [
    {
     "data": {
      "image/png": "[encoded data removed]",
      "text/plain": [
       "<Figure size 1000x600 with 1 Axes>"
      ]
     },
     "metadata": {},
     "output_type": "display_data"
    }
   ],
   "source": [
    "# Plotting the bar chart for PDP outlier scores\n",
    "plt.figure(figsize=(10, 6))\n",
    "plt.bar(data_cleanx['PU-Name'], data_cleanx['APC_outlier_score'])\n",
    "plt.xticks(rotation=90)\n",
    "plt.xlabel('Polling Unit')\n",
    "plt.ylabel('Outlier Score')\n",
    "plt.title('Outlier Scores for APC')\n",
    "plt.tight_layout()\n",
    "plt.show()\n"
   ]
  },
  {
   "cell_type": "code",
   "execution_count": 30,
   "id": "2f465c51",
   "metadata": {},
   "outputs": [
    {
     "data": {
      "image/png": "[encoded data removed]",
      "text/plain": [
       "<Figure size 1000x600 with 1 Axes>"
      ]
     },
     "metadata": {},
     "output_type": "display_data"
    }
   ],
   "source": [
    "# Plotting the bar chart for PDP outlier scores\n",
    "plt.figure(figsize=(10, 6))\n",
    "plt.bar(data_cleanx['PU-Name'], data_cleanx['NNPP_outlier_score'])\n",
    "plt.xticks(rotation=90)\n",
    "plt.xlabel('Polling Unit')\n",
    "plt.ylabel('Outlier Score')\n",
    "plt.title('Outlier Scores for NNPP')\n",
    "plt.tight_layout()\n",
    "plt.show()\n"
   ]
  },
  {
   "cell_type": "code",
   "execution_count": 32,
   "id": "fb573728",
   "metadata": {},
   "outputs": [
    {
     "data": {
      "text/html": [
       "<div style=\"width:100%;\"><div style=\"position:relative;width:100%;height:0;padding-bottom:60%;\"><span style=\"color:#565656\">Make this Notebook Trusted to load map: File -> Trust Notebook</span><iframe srcdoc=\"&lt;!DOCTYPE html&gt;\n",
       "&lt;html&gt;\n",
       "&lt;head&gt;\n",
       "    \n",
       "    &lt;meta http-equiv=&quot;content-type&quot; content=&quot;text/html; charset=UTF-8&quot; /&gt;\n",
       "    \n",
       "        &lt;script&gt;\n",
       "            L_NO_TOUCH = false;\n",
       "            L_DISABLE_3D = false;\n",
       "        &lt;/script&gt;\n",
       "    \n",
       "    &lt;style&gt;html, body {width: 100%;height: 100%;margin: 0;padding: 0;}&lt;/style&gt;\n",
       "    &lt;style&gt;#map {position:absolute;top:0;bottom:0;right:0;left:0;}&lt;/style&gt;\n",
       "    &lt;script src=&quot;https://cdn.jsdelivr.net/npm/leaflet@1.9.3/dist/leaflet.js&quot;&gt;&lt;/script&gt;\n",
       "    &lt;script src=&quot;https://code.jquery.com/jquery-3.7.1.min.js&quot;&gt;&lt;/script&gt;\n",
       "    &lt;script src=&quot;https://cdn.jsdelivr.net/npm/bootstrap@5.2.2/dist/js/bootstrap.bundle.min.js&quot;&gt;&lt;/script&gt;\n",
       "    &lt;script src=&quot;https://cdnjs.cloudflare.com/ajax/libs/Leaflet.awesome-markers/2.0.2/leaflet.awesome-markers.js&quot;&gt;&lt;/script&gt;\n",
       "    &lt;link rel=&quot;stylesheet&quot; href=&quot;https://cdn.jsdelivr.net/npm/leaflet@1.9.3/dist/leaflet.css&quot;/&gt;\n",
       "    &lt;link rel=&quot;stylesheet&quot; href=&quot;https://cdn.jsdelivr.net/npm/bootstrap@5.2.2/dist/css/bootstrap.min.css&quot;/&gt;\n",
       "    &lt;link rel=&quot;stylesheet&quot; href=&quot;https://netdna.bootstrapcdn.com/bootstrap/3.0.0/css/bootstrap-glyphicons.css&quot;/&gt;\n",
       "    &lt;link rel=&quot;stylesheet&quot; href=&quot;https://cdn.jsdelivr.net/npm/@fortawesome/fontawesome-free@6.2.0/css/all.min.css&quot;/&gt;\n",
       "    &lt;link rel=&quot;stylesheet&quot; href=&quot;https://cdnjs.cloudflare.com/ajax/libs/Leaflet.awesome-markers/2.0.2/leaflet.awesome-markers.css&quot;/&gt;\n",
       "    &lt;link rel=&quot;stylesheet&quot; href=&quot;https://cdn.jsdelivr.net/gh/python-visualization/folium/folium/templates/leaflet.awesome.rotate.min.css&quot;/&gt;\n",
       "    \n",
       "            &lt;meta name=&quot;viewport&quot; content=&quot;width=device-width,\n",
       "                initial-scale=1.0, maximum-scale=1.0, user-scalable=no&quot; /&gt;\n",
       "            &lt;style&gt;\n",
       "                #map_53421f7890db851eb646366d742543ab {\n",
       "                    position: relative;\n",
       "                    width: 100.0%;\n",
       "                    height: 100.0%;\n",
       "                    left: 0.0%;\n",
       "                    top: 0.0%;\n",
       "                }\n",
       "                .leaflet-container { font-size: 1rem; }\n",
       "            &lt;/style&gt;\n",
       "        \n",
       "&lt;/head&gt;\n",
       "&lt;body&gt;\n",
       "    \n",
       "    \n",
       "            &lt;div class=&quot;folium-map&quot; id=&quot;map_53421f7890db851eb646366d742543ab&quot; &gt;&lt;/div&gt;\n",
       "        \n",
       "&lt;/body&gt;\n",
       "&lt;script&gt;\n",
       "    \n",
       "    \n",
       "            var map_53421f7890db851eb646366d742543ab = L.map(\n",
       "                &quot;map_53421f7890db851eb646366d742543ab&quot;,\n",
       "                {\n",
       "                    center: [6.52455, 3.37935],\n",
       "                    crs: L.CRS.EPSG3857,\n",
       "                    zoom: 12,\n",
       "                    zoomControl: true,\n",
       "                    preferCanvas: false,\n",
       "                }\n",
       "            );\n",
       "\n",
       "            \n",
       "\n",
       "        \n",
       "    \n",
       "            var tile_layer_667f723f45449cae94d7326a3c4a1714 = L.tileLayer(\n",
       "                &quot;https://tile.openstreetmap.org/{z}/{x}/{y}.png&quot;,\n",
       "                {&quot;attribution&quot;: &quot;\\u0026copy; \\u003ca href=\\&quot;https://www.openstreetmap.org/copyright\\&quot;\\u003eOpenStreetMap\\u003c/a\\u003e contributors&quot;, &quot;detectRetina&quot;: false, &quot;maxNativeZoom&quot;: 19, &quot;maxZoom&quot;: 19, &quot;minZoom&quot;: 0, &quot;noWrap&quot;: false, &quot;opacity&quot;: 1, &quot;subdomains&quot;: &quot;abc&quot;, &quot;tms&quot;: false}\n",
       "            );\n",
       "        \n",
       "    \n",
       "            tile_layer_667f723f45449cae94d7326a3c4a1714.addTo(map_53421f7890db851eb646366d742543ab);\n",
       "        \n",
       "    \n",
       "            var marker_37de4cd311142ecf6211556149a3f97c = L.marker(\n",
       "                [6.5244, 3.3792],\n",
       "                {}\n",
       "            ).addTo(map_53421f7890db851eb646366d742543ab);\n",
       "        \n",
       "    \n",
       "        var popup_59eae10d56de85b6efa522305cd799f4 = L.popup({&quot;maxWidth&quot;: &quot;100%&quot;});\n",
       "\n",
       "        \n",
       "            \n",
       "                var html_b51b8e0cac16a9df01a69026789d20e7 = $(`&lt;div id=&quot;html_b51b8e0cac16a9df01a69026789d20e7&quot; style=&quot;width: 100.0%; height: 100.0%;&quot;&gt;Polling Unit: PU1 APC Outlier Score: 33.33333333333334 LP Outlier Score: 3.333333333333343 PDP Outlier Score: 6.666666666666686 NNPP Outlier Score: 10.0&lt;/div&gt;`)[0];\n",
       "                popup_59eae10d56de85b6efa522305cd799f4.setContent(html_b51b8e0cac16a9df01a69026789d20e7);\n",
       "            \n",
       "        \n",
       "\n",
       "        marker_37de4cd311142ecf6211556149a3f97c.bindPopup(popup_59eae10d56de85b6efa522305cd799f4)\n",
       "        ;\n",
       "\n",
       "        \n",
       "    \n",
       "    \n",
       "            var marker_fb37bc5ec044b0e1234acf415b5286d8 = L.marker(\n",
       "                [6.5245, 3.3793],\n",
       "                {}\n",
       "            ).addTo(map_53421f7890db851eb646366d742543ab);\n",
       "        \n",
       "    \n",
       "        var popup_75fe50c553ef391631cf933174c104c7 = L.popup({&quot;maxWidth&quot;: &quot;100%&quot;});\n",
       "\n",
       "        \n",
       "            \n",
       "                var html_171ac45d158698fa823fea2d84405a7e = $(`&lt;div id=&quot;html_171ac45d158698fa823fea2d84405a7e&quot; style=&quot;width: 100.0%; height: 100.0%;&quot;&gt;Polling Unit: PU2 APC Outlier Score: 33.33333333333333 LP Outlier Score: 30.0 PDP Outlier Score: 20.0 NNPP Outlier Score: 3.3333333333333357&lt;/div&gt;`)[0];\n",
       "                popup_75fe50c553ef391631cf933174c104c7.setContent(html_171ac45d158698fa823fea2d84405a7e);\n",
       "            \n",
       "        \n",
       "\n",
       "        marker_fb37bc5ec044b0e1234acf415b5286d8.bindPopup(popup_75fe50c553ef391631cf933174c104c7)\n",
       "        ;\n",
       "\n",
       "        \n",
       "    \n",
       "    \n",
       "            var marker_a362d16a1566e75bde69bbb720c99647 = L.marker(\n",
       "                [6.5246, 3.3794],\n",
       "                {}\n",
       "            ).addTo(map_53421f7890db851eb646366d742543ab);\n",
       "        \n",
       "    \n",
       "        var popup_a6a864c71ffe4756caec5961d72de2cb = L.popup({&quot;maxWidth&quot;: &quot;100%&quot;});\n",
       "\n",
       "        \n",
       "            \n",
       "                var html_a729b3c4de512017d4ab0ec905749227 = $(`&lt;div id=&quot;html_a729b3c4de512017d4ab0ec905749227&quot; style=&quot;width: 100.0%; height: 100.0%;&quot;&gt;Polling Unit: PU3 APC Outlier Score: 6.666666666666671 LP Outlier Score: 10.0 PDP Outlier Score: 6.666666666666686 NNPP Outlier Score: 3.3333333333333357&lt;/div&gt;`)[0];\n",
       "                popup_a6a864c71ffe4756caec5961d72de2cb.setContent(html_a729b3c4de512017d4ab0ec905749227);\n",
       "            \n",
       "        \n",
       "\n",
       "        marker_a362d16a1566e75bde69bbb720c99647.bindPopup(popup_a6a864c71ffe4756caec5961d72de2cb)\n",
       "        ;\n",
       "\n",
       "        \n",
       "    \n",
       "    \n",
       "            var marker_146e2087518eedbd80c64b07350de063 = L.marker(\n",
       "                [6.5247, 3.3795],\n",
       "                {}\n",
       "            ).addTo(map_53421f7890db851eb646366d742543ab);\n",
       "        \n",
       "    \n",
       "        var popup_57c305c7e1e4cbb781818a271e2ab489 = L.popup({&quot;maxWidth&quot;: &quot;100%&quot;});\n",
       "\n",
       "        \n",
       "            \n",
       "                var html_61445eeb35c67e32b5e937803a51bcc2 = $(`&lt;div id=&quot;html_61445eeb35c67e32b5e937803a51bcc2&quot; style=&quot;width: 100.0%; height: 100.0%;&quot;&gt;Polling Unit: PU4 APC Outlier Score: 6.666666666666671 LP Outlier Score: 23.333333333333343 PDP Outlier Score: 20.0 NNPP Outlier Score: 10.0&lt;/div&gt;`)[0];\n",
       "                popup_57c305c7e1e4cbb781818a271e2ab489.setContent(html_61445eeb35c67e32b5e937803a51bcc2);\n",
       "            \n",
       "        \n",
       "\n",
       "        marker_146e2087518eedbd80c64b07350de063.bindPopup(popup_57c305c7e1e4cbb781818a271e2ab489)\n",
       "        ;\n",
       "\n",
       "        \n",
       "    \n",
       "    \n",
       "            tile_layer_667f723f45449cae94d7326a3c4a1714.addTo(map_53421f7890db851eb646366d742543ab);\n",
       "        \n",
       "&lt;/script&gt;\n",
       "&lt;/html&gt;\" style=\"position:absolute;width:100%;height:100%;left:0;top:0;border:none !important;\" allowfullscreen webkitallowfullscreen mozallowfullscreen></iframe></div></div>"
      ],
      "text/plain": [
       "<folium.folium.Map at 0x279ce50cd90>"
      ]
     },
     "execution_count": 32,
     "metadata": {},
     "output_type": "execute_result"
    },
    {
     "data": {
      "image/png": "[encoded data removed]",
      "text/plain": [
       "<Figure size 640x480 with 1 Axes>"
      ]
     },
     "metadata": {},
     "output_type": "display_data"
    }
   ],
   "source": [
    "import folium\n",
    "\n",
    "# Create a folium map to visualize polling units\n",
    "m = folium.Map(location=[data_cleanx['latitude'].mean(), data_cleanx['longitude'].mean()], zoom_start=12)\n",
    "\n",
    "\n",
    "# Add markers for each polling unit\n",
    "for index, row in data_cleanx.iterrows():\n",
    "    folium.Marker(\n",
    "        location=[row['latitude'], row['longitude']],\n",
    "        popup=f\"Polling Unit: {row['PU-Name']}\\nAPC Outlier Score: {row['APC_outlier_score']}\\nLP Outlier Score: {row['LP_outlier_score']}\\nPDP Outlier Score: {row['PDP_outlier_score']}\\nNNPP Outlier Score: {row['NNPP_outlier_score']}\"\n",
    "    ).add_to(m)\n",
    "plt.title('Folium map visualizing polling units in Anambra State')\n",
    "# Save the map as an HTML file\n",
    "m.save('polling_units_map.html')\n",
    "\n",
    "# Display the map (this will work in Jupyter notebooks)\n",
    "m"
   ]
  },
  {
   "cell_type": "code",
   "execution_count": null,
   "id": "7c4c0051",
   "metadata": {},
   "outputs": [],
   "source": []
  }
 ],
 "metadata": {
  "kernelspec": {
   "display_name": "Python 3 (ipykernel)",
   "language": "python",
   "name": "python3"
  },
  "language_info": {
   "codemirror_mode": {
    "name": "ipython",
    "version": 3
   },
   "file_extension": ".py",
   "mimetype": "text/x-python",
   "name": "python",
   "nbconvert_exporter": "python",
   "pygments_lexer": "ipython3",
   "version": "3.9.13"
  }
 },
 "nbformat": 4,
 "nbformat_minor": 5
}
