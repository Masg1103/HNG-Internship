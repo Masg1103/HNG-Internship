{
  "nbformat": 4,
  "nbformat_minor": 0,
  "metadata": {
    "colab": {
      "provenance": []
    },
    "kernelspec": {
      "name": "python3",
      "display_name": "Python 3"
    },
    "language_info": {
      "name": "python"
    }
  },
  "cells": [
    {
      "cell_type": "code",
      "execution_count": 1,
      "metadata": {
        "colab": {
          "base_uri": "https://localhost:8080/",
          "height": 73
        },
        "id": "VyOhgjPj_8PL",
        "outputId": "44180de5-109a-431d-aa17-168a1000c4cf"
      },
      "outputs": [
        {
          "output_type": "display_data",
          "data": {
            "text/plain": [
              "<IPython.core.display.HTML object>"
            ],
            "text/html": [
              "\n",
              "     <input type=\"file\" id=\"files-1c1c21f2-8cae-4e2b-a58f-3fdf9db3eefc\" name=\"files[]\" multiple disabled\n",
              "        style=\"border:none\" />\n",
              "     <output id=\"result-1c1c21f2-8cae-4e2b-a58f-3fdf9db3eefc\">\n",
              "      Upload widget is only available when the cell has been executed in the\n",
              "      current browser session. Please rerun this cell to enable.\n",
              "      </output>\n",
              "      <script>// Copyright 2017 Google LLC\n",
              "//\n",
              "// Licensed under the Apache License, Version 2.0 (the \"License\");\n",
              "// you may not use this file except in compliance with the License.\n",
              "// You may obtain a copy of the License at\n",
              "//\n",
              "//      http://www.apache.org/licenses/LICENSE-2.0\n",
              "//\n",
              "// Unless required by applicable law or agreed to in writing, software\n",
              "// distributed under the License is distributed on an \"AS IS\" BASIS,\n",
              "// WITHOUT WARRANTIES OR CONDITIONS OF ANY KIND, either express or implied.\n",
              "// See the License for the specific language governing permissions and\n",
              "// limitations under the License.\n",
              "\n",
              "/**\n",
              " * @fileoverview Helpers for google.colab Python module.\n",
              " */\n",
              "(function(scope) {\n",
              "function span(text, styleAttributes = {}) {\n",
              "  const element = document.createElement('span');\n",
              "  element.textContent = text;\n",
              "  for (const key of Object.keys(styleAttributes)) {\n",
              "    element.style[key] = styleAttributes[key];\n",
              "  }\n",
              "  return element;\n",
              "}\n",
              "\n",
              "// Max number of bytes which will be uploaded at a time.\n",
              "const MAX_PAYLOAD_SIZE = 100 * 1024;\n",
              "\n",
              "function _uploadFiles(inputId, outputId) {\n",
              "  const steps = uploadFilesStep(inputId, outputId);\n",
              "  const outputElement = document.getElementById(outputId);\n",
              "  // Cache steps on the outputElement to make it available for the next call\n",
              "  // to uploadFilesContinue from Python.\n",
              "  outputElement.steps = steps;\n",
              "\n",
              "  return _uploadFilesContinue(outputId);\n",
              "}\n",
              "\n",
              "// This is roughly an async generator (not supported in the browser yet),\n",
              "// where there are multiple asynchronous steps and the Python side is going\n",
              "// to poll for completion of each step.\n",
              "// This uses a Promise to block the python side on completion of each step,\n",
              "// then passes the result of the previous step as the input to the next step.\n",
              "function _uploadFilesContinue(outputId) {\n",
              "  const outputElement = document.getElementById(outputId);\n",
              "  const steps = outputElement.steps;\n",
              "\n",
              "  const next = steps.next(outputElement.lastPromiseValue);\n",
              "  return Promise.resolve(next.value.promise).then((value) => {\n",
              "    // Cache the last promise value to make it available to the next\n",
              "    // step of the generator.\n",
              "    outputElement.lastPromiseValue = value;\n",
              "    return next.value.response;\n",
              "  });\n",
              "}\n",
              "\n",
              "/**\n",
              " * Generator function which is called between each async step of the upload\n",
              " * process.\n",
              " * @param {string} inputId Element ID of the input file picker element.\n",
              " * @param {string} outputId Element ID of the output display.\n",
              " * @return {!Iterable<!Object>} Iterable of next steps.\n",
              " */\n",
              "function* uploadFilesStep(inputId, outputId) {\n",
              "  const inputElement = document.getElementById(inputId);\n",
              "  inputElement.disabled = false;\n",
              "\n",
              "  const outputElement = document.getElementById(outputId);\n",
              "  outputElement.innerHTML = '';\n",
              "\n",
              "  const pickedPromise = new Promise((resolve) => {\n",
              "    inputElement.addEventListener('change', (e) => {\n",
              "      resolve(e.target.files);\n",
              "    });\n",
              "  });\n",
              "\n",
              "  const cancel = document.createElement('button');\n",
              "  inputElement.parentElement.appendChild(cancel);\n",
              "  cancel.textContent = 'Cancel upload';\n",
              "  const cancelPromise = new Promise((resolve) => {\n",
              "    cancel.onclick = () => {\n",
              "      resolve(null);\n",
              "    };\n",
              "  });\n",
              "\n",
              "  // Wait for the user to pick the files.\n",
              "  const files = yield {\n",
              "    promise: Promise.race([pickedPromise, cancelPromise]),\n",
              "    response: {\n",
              "      action: 'starting',\n",
              "    }\n",
              "  };\n",
              "\n",
              "  cancel.remove();\n",
              "\n",
              "  // Disable the input element since further picks are not allowed.\n",
              "  inputElement.disabled = true;\n",
              "\n",
              "  if (!files) {\n",
              "    return {\n",
              "      response: {\n",
              "        action: 'complete',\n",
              "      }\n",
              "    };\n",
              "  }\n",
              "\n",
              "  for (const file of files) {\n",
              "    const li = document.createElement('li');\n",
              "    li.append(span(file.name, {fontWeight: 'bold'}));\n",
              "    li.append(span(\n",
              "        `(${file.type || 'n/a'}) - ${file.size} bytes, ` +\n",
              "        `last modified: ${\n",
              "            file.lastModifiedDate ? file.lastModifiedDate.toLocaleDateString() :\n",
              "                                    'n/a'} - `));\n",
              "    const percent = span('0% done');\n",
              "    li.appendChild(percent);\n",
              "\n",
              "    outputElement.appendChild(li);\n",
              "\n",
              "    const fileDataPromise = new Promise((resolve) => {\n",
              "      const reader = new FileReader();\n",
              "      reader.onload = (e) => {\n",
              "        resolve(e.target.result);\n",
              "      };\n",
              "      reader.readAsArrayBuffer(file);\n",
              "    });\n",
              "    // Wait for the data to be ready.\n",
              "    let fileData = yield {\n",
              "      promise: fileDataPromise,\n",
              "      response: {\n",
              "        action: 'continue',\n",
              "      }\n",
              "    };\n",
              "\n",
              "    // Use a chunked sending to avoid message size limits. See b/62115660.\n",
              "    let position = 0;\n",
              "    do {\n",
              "      const length = Math.min(fileData.byteLength - position, MAX_PAYLOAD_SIZE);\n",
              "      const chunk = new Uint8Array(fileData, position, length);\n",
              "      position += length;\n",
              "\n",
              "      const base64 = btoa(String.fromCharCode.apply(null, chunk));\n",
              "      yield {\n",
              "        response: {\n",
              "          action: 'append',\n",
              "          file: file.name,\n",
              "          data: base64,\n",
              "        },\n",
              "      };\n",
              "\n",
              "      let percentDone = fileData.byteLength === 0 ?\n",
              "          100 :\n",
              "          Math.round((position / fileData.byteLength) * 100);\n",
              "      percent.textContent = `${percentDone}% done`;\n",
              "\n",
              "    } while (position < fileData.byteLength);\n",
              "  }\n",
              "\n",
              "  // All done.\n",
              "  yield {\n",
              "    response: {\n",
              "      action: 'complete',\n",
              "    }\n",
              "  };\n",
              "}\n",
              "\n",
              "scope.google = scope.google || {};\n",
              "scope.google.colab = scope.google.colab || {};\n",
              "scope.google.colab._files = {\n",
              "  _uploadFiles,\n",
              "  _uploadFilesContinue,\n",
              "};\n",
              "})(self);\n",
              "</script> "
            ]
          },
          "metadata": {}
        },
        {
          "output_type": "stream",
          "name": "stdout",
          "text": [
            "Saving OSUN_crosschecked (2).csv to OSUN_crosschecked (2).csv\n"
          ]
        }
      ],
      "source": [
        "from google.colab import files\n",
        "uploaded = files.upload()"
      ]
    },
    {
      "cell_type": "code",
      "source": [
        "pip install pandas geopy scipy\n"
      ],
      "metadata": {
        "colab": {
          "base_uri": "https://localhost:8080/"
        },
        "id": "fVgOdI2sABgt",
        "outputId": "5017b39b-42da-41af-efe9-92b14b521152"
      },
      "execution_count": 2,
      "outputs": [
        {
          "output_type": "stream",
          "name": "stdout",
          "text": [
            "Requirement already satisfied: pandas in /usr/local/lib/python3.10/dist-packages (2.0.3)\n",
            "Requirement already satisfied: geopy in /usr/local/lib/python3.10/dist-packages (2.3.0)\n",
            "Requirement already satisfied: scipy in /usr/local/lib/python3.10/dist-packages (1.11.4)\n",
            "Requirement already satisfied: python-dateutil>=2.8.2 in /usr/local/lib/python3.10/dist-packages (from pandas) (2.8.2)\n",
            "Requirement already satisfied: pytz>=2020.1 in /usr/local/lib/python3.10/dist-packages (from pandas) (2023.4)\n",
            "Requirement already satisfied: tzdata>=2022.1 in /usr/local/lib/python3.10/dist-packages (from pandas) (2024.1)\n",
            "Requirement already satisfied: numpy>=1.21.0 in /usr/local/lib/python3.10/dist-packages (from pandas) (1.25.2)\n",
            "Requirement already satisfied: geographiclib<3,>=1.52 in /usr/local/lib/python3.10/dist-packages (from geopy) (2.0)\n",
            "Requirement already satisfied: six>=1.5 in /usr/local/lib/python3.10/dist-packages (from python-dateutil>=2.8.2->pandas) (1.16.0)\n"
          ]
        }
      ]
    },
    {
      "cell_type": "markdown",
      "source": [
        "# Steps to Detect Outliers in Election Data Using Geospatial Analysis\n",
        "**1. Import Libraries and Load Data**"
      ],
      "metadata": {
        "id": "6QLsAjIrLEK5"
      }
    },
    {
      "cell_type": "code",
      "source": [
        "import pandas as pd\n",
        "from scipy.spatial import distance\n",
        "\n",
        "# Load the dataset\n",
        "osun_data = pd.read_csv('OSUN_crosschecked (2).csv')\n"
      ],
      "metadata": {
        "id": "dVh8hAs1AFuW"
      },
      "execution_count": 3,
      "outputs": []
    },
    {
      "cell_type": "markdown",
      "source": [
        "**2. Calculate Pairwise Distances**"
      ],
      "metadata": {
        "id": "dh54HEh-LjFt"
      }
    },
    {
      "cell_type": "code",
      "source": [
        "from scipy.spatial.distance import pdist, squareform\n",
        "\n",
        "# Extraction of coordinates\n",
        "coordinates = osun_data[['Latitude', 'Longitude']].values\n",
        "\n",
        "#  Calculate pairwise distances using Euclidean distance\n",
        "distances = pdist(coordinates, 'euclidean')\n",
        "distance_matrix = squareform(distances)\n"
      ],
      "metadata": {
        "id": "GbTRboRBAWcK"
      },
      "execution_count": 4,
      "outputs": []
    },
    {
      "cell_type": "markdown",
      "source": [
        "**3. Define Radius and Find Neighbors**"
      ],
      "metadata": {
        "id": "yP3NdlblLw_8"
      }
    },
    {
      "cell_type": "code",
      "source": [
        "import numpy as np\n",
        "# Convert the radius to degrees (approximation: 1 degree ~ 111 km)\n",
        "radius_degrees = 1.0 / 111.0\n",
        "\n",
        "# Find neighbours within the radius for each point\n",
        "neighbours_list = []\n",
        "for i in range(distance_matrix.shape[0]):\n",
        "    neighbours = np.where(distance_matrix[i] <= radius_degrees)[0]\n",
        "    neighbours = neighbours[neighbours != i]  # Remove the unit itself\n",
        "    neighbours_list.append(neighbours.tolist())\n",
        "\n",
        "# Add neighbours to the dataframe\n",
        "osun_data['Neighbours'] = neighbours_list\n"
      ],
      "metadata": {
        "id": "Y5hOEntKAZO_"
      },
      "execution_count": 6,
      "outputs": []
    },
    {
      "cell_type": "markdown",
      "source": [
        "**4. Calculate Outlier Scores**"
      ],
      "metadata": {
        "id": "IXaDaDxgL4fH"
      }
    },
    {
      "cell_type": "code",
      "source": [
        "# Function to calculate outlier scores for each party\n",
        "def calculate_outlier_score(row, neighbours, data):\n",
        "    scores = {}\n",
        "    for party in ['APC', 'LP', 'PDP', 'NNPP']:\n",
        "        neighbour_votes = data.iloc[neighbours][party].mean()\n",
        "        scores[party] = abs(row[party] - neighbour_votes)\n",
        "    return scores\n",
        "\n",
        "# Apply function to each row to calculate outlier scores\n",
        "osun_data['Outlier_Scores'] = osun_data.apply(\n",
        "    lambda row: calculate_outlier_score(row, row['Neighbours'], osun_data), axis=1\n",
        ")\n"
      ],
      "metadata": {
        "id": "N7CXBG45Ab_Y"
      },
      "execution_count": 7,
      "outputs": []
    },
    {
      "cell_type": "markdown",
      "source": [
        "**5. Flatten Outlier Scores and Sort Data**"
      ],
      "metadata": {
        "id": "aXTeXEEvL9uo"
      }
    },
    {
      "cell_type": "code",
      "source": [
        "# Flatten the outlier scores into separate columns for sorting\n",
        "for party in ['APC', 'LP', 'PDP', 'NNPP']:\n",
        "    osun_data[f'Outlier_Score_{party}'] = osun_data['Outlier_Scores'].apply(lambda x: x[party])\n",
        "\n",
        "# Sort by the maximum outlier score among all parties\n",
        "osun_data['Max_Outlier_Score'] = osun_data[['Outlier_Score_APC', 'Outlier_Score_LP', 'Outlier_Score_PDP', 'Outlier_Score_NNPP']].max(axis=1)\n",
        "sorted_data = osun_data.sort_values(by='Max_Outlier_Score', ascending=False)\n",
        "\n"
      ],
      "metadata": {
        "id": "4DfB-7v6AeNg"
      },
      "execution_count": 8,
      "outputs": []
    },
    {
      "cell_type": "markdown",
      "source": [
        "**6. Prepare Final Data for Report and Save to CSV**\n"
      ],
      "metadata": {
        "id": "nM3sZ1WQMGs7"
      }
    },
    {
      "cell_type": "code",
      "source": [
        "# Select relevant columns for the final report\n",
        "final_data = sorted_data[['PU-Code', 'PU-Name', 'LGA', 'Ward', 'Latitude', 'Longitude', 'Outlier_Score_APC', 'Outlier_Score_LP', 'Outlier_Score_PDP', 'Outlier_Score_NNPP', 'Max_Outlier_Score']]\n",
        "\n",
        "# Save to a CSV file\n",
        "final_data.to_csv('\\\\Users\\\\Kingsley\\\\Desktop\\\\sorted_outlier_scores.csv', index=False)\n"
      ],
      "metadata": {
        "id": "GlsPZiJkMJ6D"
      },
      "execution_count": 9,
      "outputs": []
    }
  ]
}